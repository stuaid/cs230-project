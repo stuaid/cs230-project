{
 "cells": [
  {
   "cell_type": "markdown",
   "metadata": {},
   "source": [
    "### VGG-16 ###\n",
    "This notebook implements the VGG-16 models. Three separate models can be created, refer to the paper for details."
   ]
  },
  {
   "cell_type": "code",
   "execution_count": 1,
   "metadata": {},
   "outputs": [],
   "source": [
    "import numpy as np\n",
    "import tensorflow as tf\n",
    "from tensorflow import keras\n",
    "import matplotlib.pyplot as plt"
   ]
  },
  {
   "cell_type": "code",
   "execution_count": 2,
   "metadata": {},
   "outputs": [
    {
     "name": "stdout",
     "output_type": "stream",
     "text": [
      "2.10.1\n"
     ]
    },
    {
     "data": {
      "text/plain": [
       "[PhysicalDevice(name='/physical_device:CPU:0', device_type='CPU'),\n",
       " PhysicalDevice(name='/physical_device:GPU:0', device_type='GPU')]"
      ]
     },
     "execution_count": 2,
     "metadata": {},
     "output_type": "execute_result"
    }
   ],
   "source": [
    "print(tf.__version__)\n",
    "tf.config.list_physical_devices()"
   ]
  },
  {
   "cell_type": "code",
   "execution_count": 3,
   "metadata": {},
   "outputs": [],
   "source": [
    "# use this cell to load the balanced dataset\n",
    "train_ds_bal = tf.data.Dataset.load('xBD_Dataset/xBD_train')\n",
    "test_ds_bal = tf.data.Dataset.load('xBD_Dataset/xBD_test')\n",
    "val_ds_bal = tf.data.Dataset.load('xBD_Dataset/xBD_val')"
   ]
  },
  {
   "cell_type": "code",
   "execution_count": 4,
   "metadata": {},
   "outputs": [],
   "source": [
    "# use this cell to load the imbalanced dataset\n",
    "train_ds = tf.data.Dataset.load('xBD_Dataset/xBD_train_1')\n",
    "test_ds = tf.data.Dataset.load('xBD_Dataset/xBD_test_1')\n",
    "val_ds = tf.data.Dataset.load('xBD_Dataset/xBD_val_1')"
   ]
  },
  {
   "cell_type": "code",
   "execution_count": 5,
   "metadata": {},
   "outputs": [
    {
     "ename": "ModuleNotFoundError",
     "evalue": "No module named 'pandas'",
     "output_type": "error",
     "traceback": [
      "\u001b[1;31m---------------------------------------------------------------------------\u001b[0m",
      "\u001b[1;31mModuleNotFoundError\u001b[0m                       Traceback (most recent call last)",
      "Cell \u001b[1;32mIn[5], line 1\u001b[0m\n\u001b[1;32m----> 1\u001b[0m \u001b[38;5;28;01mimport\u001b[39;00m \u001b[38;5;21;01mpandas\u001b[39;00m \u001b[38;5;28;01mas\u001b[39;00m \u001b[38;5;21;01mpd\u001b[39;00m\n\u001b[0;32m      2\u001b[0m dataset_unbatched \u001b[38;5;241m=\u001b[39m \u001b[38;5;28mtuple\u001b[39m(train_ds\u001b[38;5;241m.\u001b[39munbatch())\n\u001b[0;32m      3\u001b[0m labels \u001b[38;5;241m=\u001b[39m []\n",
      "\u001b[1;31mModuleNotFoundError\u001b[0m: No module named 'pandas'"
     ]
    }
   ],
   "source": [
    "import pandas as pd\n",
    "dataset_unbatched = tuple(train_ds.unbatch())\n",
    "labels = []\n",
    "for (image,label) in dataset_unbatched:\n",
    "    labels.append(label.numpy())\n",
    "labels = pd.Series(labels)\n",
    "\n",
    "# adjustments\n",
    "count = labels.value_counts().sort_index()\n",
    "print(count)"
   ]
  },
  {
   "cell_type": "code",
   "execution_count": 19,
   "metadata": {},
   "outputs": [
    {
     "name": "stdout",
     "output_type": "stream",
     "text": [
      "Model: \"vgg16\"\n",
      "_________________________________________________________________\n",
      " Layer (type)                Output Shape              Param #   \n",
      "=================================================================\n",
      " input_7 (InputLayer)        [(None, 100, 100, 3)]     0         \n",
      "                                                                 \n",
      " block1_conv1 (Conv2D)       (None, 100, 100, 64)      1792      \n",
      "                                                                 \n",
      " block1_conv2 (Conv2D)       (None, 100, 100, 64)      36928     \n",
      "                                                                 \n",
      " block1_pool (MaxPooling2D)  (None, 50, 50, 64)        0         \n",
      "                                                                 \n",
      " block2_conv1 (Conv2D)       (None, 50, 50, 128)       73856     \n",
      "                                                                 \n",
      " block2_conv2 (Conv2D)       (None, 50, 50, 128)       147584    \n",
      "                                                                 \n",
      " block2_pool (MaxPooling2D)  (None, 25, 25, 128)       0         \n",
      "                                                                 \n",
      " block3_conv1 (Conv2D)       (None, 25, 25, 256)       295168    \n",
      "                                                                 \n",
      " block3_conv2 (Conv2D)       (None, 25, 25, 256)       590080    \n",
      "                                                                 \n",
      " block3_conv3 (Conv2D)       (None, 25, 25, 256)       590080    \n",
      "                                                                 \n",
      " block3_pool (MaxPooling2D)  (None, 12, 12, 256)       0         \n",
      "                                                                 \n",
      " block4_conv1 (Conv2D)       (None, 12, 12, 512)       1180160   \n",
      "                                                                 \n",
      " block4_conv2 (Conv2D)       (None, 12, 12, 512)       2359808   \n",
      "                                                                 \n",
      " block4_conv3 (Conv2D)       (None, 12, 12, 512)       2359808   \n",
      "                                                                 \n",
      " block4_pool (MaxPooling2D)  (None, 6, 6, 512)         0         \n",
      "                                                                 \n",
      " block5_conv1 (Conv2D)       (None, 6, 6, 512)         2359808   \n",
      "                                                                 \n",
      " block5_conv2 (Conv2D)       (None, 6, 6, 512)         2359808   \n",
      "                                                                 \n",
      " block5_conv3 (Conv2D)       (None, 6, 6, 512)         2359808   \n",
      "                                                                 \n",
      " block5_pool (MaxPooling2D)  (None, 3, 3, 512)         0         \n",
      "                                                                 \n",
      " flatten (Flatten)           (None, 4608)              0         \n",
      "                                                                 \n",
      " fc1 (Dense)                 (None, 4096)              18878464  \n",
      "                                                                 \n",
      " fc2 (Dense)                 (None, 4096)              16781312  \n",
      "                                                                 \n",
      " predictions (Dense)         (None, 1000)              4097000   \n",
      "                                                                 \n",
      "=================================================================\n",
      "Total params: 54,471,464\n",
      "Trainable params: 54,471,464\n",
      "Non-trainable params: 0\n",
      "_________________________________________________________________\n"
     ]
    }
   ],
   "source": [
    "IMG_SIZE = (100,100)\n",
    "BATCH_SIZE = 32\n",
    "IMG_SHAPE = IMG_SIZE + (3,)\n",
    "base_model = tf.keras.applications.vgg16.VGG16(input_shape=IMG_SHAPE,weights = None)\n",
    "base_model.summary()"
   ]
  },
  {
   "cell_type": "code",
   "execution_count": 20,
   "metadata": {},
   "outputs": [],
   "source": [
    "def model_with_input_preprocessing(image_shape=IMG_SIZE):\n",
    "    input_shape = image_shape + (3,)\n",
    "        \n",
    "    base_model = tf.keras.applications.vgg16.VGG16(input_shape=IMG_SHAPE,\n",
    "                                                   weights = None,\n",
    "                                                   include_top = False)\n",
    "\n",
    "    # create the input layer (Same as the imageNetv2 input size)\n",
    "    inputs = tf.keras.Input(shape=input_shape) \n",
    "    \n",
    "    # data preprocessing using the same weights the model was trained on\n",
    "    x = tf.keras.applications.vgg16.preprocess_input(inputs) \n",
    "    \n",
    "    # set training to False to avoid keeping track of statistics in the batch norm layer\n",
    "    x = base_model(x) \n",
    "    x = tf.keras.layers.Flatten()(x)\n",
    "    x = tf.keras.layers.Dense(1000,activation='relu')(x) \n",
    "    # include dropout with probability of 0.2 to avoid overfitting\n",
    "    x = tf.keras.layers.Dropout(0.2)(x)\n",
    "        \n",
    "    # use a prediction layer with one neuron (as a binary classifier only needs one)\n",
    "    outputs = tf.keras.layers.Dense(1,activation='linear')(x)\n",
    "        \n",
    "    model = tf.keras.Model(inputs, outputs)\n",
    "    \n",
    "    return model"
   ]
  },
  {
   "cell_type": "code",
   "execution_count": 21,
   "metadata": {},
   "outputs": [],
   "source": [
    "model2 = model_with_input_preprocessing(IMG_SIZE)"
   ]
  },
  {
   "cell_type": "code",
   "execution_count": 22,
   "metadata": {},
   "outputs": [
    {
     "name": "stdout",
     "output_type": "stream",
     "text": [
      "Model: \"model_2\"\n",
      "_________________________________________________________________\n",
      " Layer (type)                Output Shape              Param #   \n",
      "=================================================================\n",
      " input_9 (InputLayer)        [(None, 100, 100, 3)]     0         \n",
      "                                                                 \n",
      " tf.__operators__.getitem_2   (None, 100, 100, 3)      0         \n",
      " (SlicingOpLambda)                                               \n",
      "                                                                 \n",
      " tf.nn.bias_add_2 (TFOpLambd  (None, 100, 100, 3)      0         \n",
      " a)                                                              \n",
      "                                                                 \n",
      " vgg16 (Functional)          (None, 3, 3, 512)         14714688  \n",
      "                                                                 \n",
      " flatten_2 (Flatten)         (None, 4608)              0         \n",
      "                                                                 \n",
      " dense_4 (Dense)             (None, 1000)              4609000   \n",
      "                                                                 \n",
      " dropout_2 (Dropout)         (None, 1000)              0         \n",
      "                                                                 \n",
      " dense_5 (Dense)             (None, 1)                 1001      \n",
      "                                                                 \n",
      "=================================================================\n",
      "Total params: 19,324,689\n",
      "Trainable params: 19,324,689\n",
      "Non-trainable params: 0\n",
      "_________________________________________________________________\n"
     ]
    }
   ],
   "source": [
    "model2.summary()"
   ]
  },
  {
   "cell_type": "code",
   "execution_count": 23,
   "metadata": {},
   "outputs": [],
   "source": [
    "base_learning_rate = 0.001\n",
    "model2.compile(optimizer=tf.keras.optimizers.Adam(learning_rate=base_learning_rate),\n",
    "              loss=tf.keras.losses.BinaryCrossentropy(from_logits=True),\n",
    "              metrics=[tf.keras.metrics.Precision(thresholds=0),tf.keras.metrics.Recall(thresholds=0),'accuracy'])"
   ]
  },
  {
   "cell_type": "code",
   "execution_count": 17,
   "metadata": {},
   "outputs": [
    {
     "name": "stdout",
     "output_type": "stream",
     "text": [
      "Epoch 1/10\n",
      "2170/2170 [==============================] - 112s 51ms/step - loss: 1.0219 - precision_1: 0.7443 - recall_1: 0.4799 - accuracy: 0.8843 - val_loss: 0.2646 - val_precision_1: 0.7803 - val_recall_1: 0.7175 - val_accuracy: 0.9237\n",
      "Epoch 2/10\n",
      "2170/2170 [==============================] - 110s 51ms/step - loss: 0.1721 - precision_1: 0.8754 - recall_1: 0.7345 - accuracy: 0.9383 - val_loss: 0.1812 - val_precision_1: 0.8593 - val_recall_1: 0.7804 - val_accuracy: 0.9433\n",
      "Epoch 3/10\n",
      "2170/2170 [==============================] - 110s 51ms/step - loss: 0.1746 - precision_1: 0.8874 - recall_1: 0.7416 - accuracy: 0.9417 - val_loss: 0.1697 - val_precision_1: 0.8200 - val_recall_1: 0.8333 - val_accuracy: 0.9488\n",
      "Epoch 4/10\n",
      "2170/2170 [==============================] - 110s 51ms/step - loss: 0.2569 - precision_1: 0.8448 - recall_1: 0.6170 - accuracy: 0.9181 - val_loss: 0.1619 - val_precision_1: 0.8094 - val_recall_1: 0.8517 - val_accuracy: 0.9470\n",
      "Epoch 5/10\n",
      "2170/2170 [==============================] - 112s 51ms/step - loss: 0.1616 - precision_1: 0.8801 - recall_1: 0.7543 - accuracy: 0.9429 - val_loss: 0.1427 - val_precision_1: 0.8938 - val_recall_1: 0.7903 - val_accuracy: 0.9495\n",
      "Epoch 6/10\n",
      "2170/2170 [==============================] - 115s 53ms/step - loss: 0.2157 - precision_1: 0.8507 - recall_1: 0.6432 - accuracy: 0.9218 - val_loss: 0.1719 - val_precision_1: 0.8649 - val_recall_1: 0.7867 - val_accuracy: 0.9456\n",
      "Epoch 7/10\n",
      "2170/2170 [==============================] - 114s 53ms/step - loss: 0.3077 - precision_1: 0.7572 - recall_1: 0.4308 - accuracy: 0.8803 - val_loss: 0.2718 - val_precision_1: 0.7175 - val_recall_1: 0.6547 - val_accuracy: 0.9009\n",
      "Epoch 8/10\n",
      "2170/2170 [==============================] - 113s 52ms/step - loss: 0.2516 - precision_1: 0.7897 - recall_1: 0.5796 - accuracy: 0.9037 - val_loss: 0.3917 - val_precision_1: 0.0000e+00 - val_recall_1: 0.0000e+00 - val_accuracy: 0.8368\n",
      "Epoch 9/10\n",
      "2170/2170 [==============================] - 117s 54ms/step - loss: 0.2437 - precision_1: 0.8569 - recall_1: 0.5524 - accuracy: 0.9099 - val_loss: 0.1677 - val_precision_1: 0.8701 - val_recall_1: 0.7662 - val_accuracy: 0.9432\n",
      "Epoch 10/10\n",
      "2170/2170 [==============================] - 115s 53ms/step - loss: 0.1652 - precision_1: 0.8925 - recall_1: 0.7349 - accuracy: 0.9414 - val_loss: 0.1468 - val_precision_1: 0.8624 - val_recall_1: 0.8234 - val_accuracy: 0.9534\n"
     ]
    }
   ],
   "source": [
    "# training with default model\n",
    "initial_epochs = 10\n",
    "history = model2.fit(train_ds, validation_data=val_ds, epochs=initial_epochs)"
   ]
  },
  {
   "cell_type": "code",
   "execution_count": 18,
   "metadata": {},
   "outputs": [],
   "source": [
    "model2.save('vgg16_1.h5')"
   ]
  },
  {
   "cell_type": "code",
   "execution_count": 24,
   "metadata": {},
   "outputs": [
    {
     "name": "stdout",
     "output_type": "stream",
     "text": [
      "Epoch 1/10\n",
      "2170/2170 [==============================] - 123s 56ms/step - loss: 0.6662 - precision_2: 0.7123 - recall_2: 0.5357 - accuracy: 0.8967 - val_loss: 0.2074 - val_precision_2: 0.8727 - val_recall_2: 0.7020 - val_accuracy: 0.9337\n",
      "Epoch 2/10\n",
      "2170/2170 [==============================] - 138s 64ms/step - loss: 0.3403 - precision_2: 0.7790 - recall_2: 0.7290 - accuracy: 0.9271 - val_loss: 0.1757 - val_precision_2: 0.8288 - val_recall_2: 0.7895 - val_accuracy: 0.9424\n",
      "Epoch 3/10\n",
      "2170/2170 [==============================] - 129s 59ms/step - loss: 0.3203 - precision_2: 0.7961 - recall_2: 0.7618 - accuracy: 0.9343 - val_loss: 0.1775 - val_precision_2: 0.7866 - val_recall_2: 0.8227 - val_accuracy: 0.9428\n",
      "Epoch 4/10\n",
      "2170/2170 [==============================] - 137s 63ms/step - loss: 0.2606 - precision_2: 0.8172 - recall_2: 0.7983 - accuracy: 0.9431 - val_loss: 0.1834 - val_precision_2: 0.7771 - val_recall_2: 0.8397 - val_accuracy: 0.9423\n",
      "Epoch 5/10\n",
      "2170/2170 [==============================] - 132s 61ms/step - loss: 0.2807 - precision_2: 0.8235 - recall_2: 0.7818 - accuracy: 0.9417 - val_loss: 0.1718 - val_precision_2: 0.8668 - val_recall_2: 0.7811 - val_accuracy: 0.9457\n",
      "Epoch 6/10\n",
      "2170/2170 [==============================] - 139s 64ms/step - loss: 0.2937 - precision_2: 0.8307 - recall_2: 0.7635 - accuracy: 0.9396 - val_loss: 0.2167 - val_precision_2: 0.9001 - val_recall_2: 0.6236 - val_accuracy: 0.9214\n",
      "Epoch 7/10\n",
      "2170/2170 [==============================] - 134s 62ms/step - loss: 0.3042 - precision_2: 0.8348 - recall_2: 0.7681 - accuracy: 0.9410 - val_loss: 0.2077 - val_precision_2: 0.8433 - val_recall_2: 0.7564 - val_accuracy: 0.9400\n",
      "Epoch 8/10\n",
      "2170/2170 [==============================] - 139s 64ms/step - loss: 0.2597 - precision_2: 0.8541 - recall_2: 0.7810 - accuracy: 0.9447 - val_loss: 0.1691 - val_precision_2: 0.8319 - val_recall_2: 0.8178 - val_accuracy: 0.9472\n",
      "Epoch 9/10\n",
      "2170/2170 [==============================] - 125s 58ms/step - loss: 0.2645 - precision_2: 0.8489 - recall_2: 0.7820 - accuracy: 0.9442 - val_loss: 0.1981 - val_precision_2: 0.8197 - val_recall_2: 0.8185 - val_accuracy: 0.9450\n",
      "Epoch 10/10\n",
      "2170/2170 [==============================] - 135s 62ms/step - loss: 0.2488 - precision_2: 0.8438 - recall_2: 0.7934 - accuracy: 0.9450 - val_loss: 0.2124 - val_precision_2: 0.8115 - val_recall_2: 0.8086 - val_accuracy: 0.9432\n"
     ]
    }
   ],
   "source": [
    "# training with unbalanced classes using class weights\n",
    "initial_epochs = 10\n",
    "history = model2.fit(train_ds, validation_data=val_ds, epochs=initial_epochs, class_weight={0:1,1:2})"
   ]
  },
  {
   "cell_type": "code",
   "execution_count": null,
   "metadata": {},
   "outputs": [],
   "source": [
    "model2.save('vgg16_2.h5')"
   ]
  },
  {
   "cell_type": "code",
   "execution_count": 10,
   "metadata": {},
   "outputs": [
    {
     "name": "stdout",
     "output_type": "stream",
     "text": [
      "Epoch 1/5\n",
      "701/701 [==============================] - 43s 52ms/step - loss: 0.7813 - precision: 0.5493 - recall: 0.3565 - accuracy: 0.5198 - val_loss: 0.6915 - val_precision: 0.5034 - val_recall: 1.0000 - val_accuracy: 0.4966\n",
      "Epoch 2/5\n",
      "701/701 [==============================] - 38s 54ms/step - loss: 0.4340 - precision: 0.7897 - recall: 0.7754 - accuracy: 0.7712 - val_loss: 0.2661 - val_precision: 0.9577 - val_recall: 0.8199 - val_accuracy: 0.8783\n",
      "Epoch 3/5\n",
      "701/701 [==============================] - 36s 52ms/step - loss: 0.2149 - precision: 0.9232 - recall: 0.9160 - accuracy: 0.9197 - val_loss: 0.1734 - val_precision: 0.9640 - val_recall: 0.9106 - val_accuracy: 0.9322\n",
      "Epoch 4/5\n",
      "701/701 [==============================] - 37s 53ms/step - loss: 0.1820 - precision: 0.9365 - recall: 0.9350 - accuracy: 0.9316 - val_loss: 0.1907 - val_precision: 0.9796 - val_recall: 0.8865 - val_accuracy: 0.9168\n",
      "Epoch 5/5\n",
      "701/701 [==============================] - 37s 53ms/step - loss: 0.2189 - precision: 0.9248 - recall: 0.9146 - accuracy: 0.9178 - val_loss: 0.1888 - val_precision: 0.9763 - val_recall: 0.8780 - val_accuracy: 0.9182\n"
     ]
    }
   ],
   "source": [
    "# training with balanced classes\n",
    "base_learning_rate = 0.001\n",
    "model2.compile(optimizer=tf.keras.optimizers.Adam(learning_rate=base_learning_rate),\n",
    "              loss=tf.keras.losses.BinaryCrossentropy(from_logits=True),\n",
    "              metrics=[tf.keras.metrics.Precision(thresholds=0),tf.keras.metrics.Recall(thresholds=0),'accuracy'])\n",
    "initial_epochs = 5\n",
    "history = model2.fit(train_ds_bal, validation_data=val_ds_bal, epochs=initial_epochs)"
   ]
  },
  {
   "cell_type": "code",
   "execution_count": 47,
   "metadata": {},
   "outputs": [],
   "source": [
    "model2.save('vgg16_3.h5')"
   ]
  },
  {
   "cell_type": "code",
   "execution_count": 11,
   "metadata": {},
   "outputs": [
    {
     "name": "stdout",
     "output_type": "stream",
     "text": [
      "272/272 [==============================] - 4s 16ms/step - loss: 0.3034 - precision: 0.6269 - recall: 0.8792 - accuracy: 0.9106\n"
     ]
    },
    {
     "data": {
      "text/plain": [
       "[0.303388386964798, 0.6268882155418396, 0.8792372941970825, 0.9105784893035889]"
      ]
     },
     "execution_count": 11,
     "metadata": {},
     "output_type": "execute_result"
    }
   ],
   "source": [
    "model2.evaluate(val_ds)"
   ]
  },
  {
   "cell_type": "code",
   "execution_count": 46,
   "metadata": {},
   "outputs": [
    {
     "data": {
      "image/png": "[encoded data removed]",
      "text/plain": [
       "<Figure size 800x800 with 2 Axes>"
      ]
     },
     "metadata": {},
     "output_type": "display_data"
    }
   ],
   "source": [
    "acc = [0.] + history.history['accuracy']\n",
    "val_acc = [0.] + history.history['val_accuracy']\n",
    "\n",
    "loss = history.history['loss']\n",
    "val_loss = history.history['val_loss']\n",
    "\n",
    "plt.figure(figsize=(8, 8))\n",
    "plt.subplot(2, 1, 1)\n",
    "plt.plot(acc, label='Training Accuracy')\n",
    "plt.plot(val_acc, label='Validation Accuracy')\n",
    "plt.legend(loc='lower right')\n",
    "plt.ylabel('Accuracy')\n",
    "plt.ylim([min(plt.ylim()),1])\n",
    "plt.title('Training and Validation Accuracy')\n",
    "\n",
    "plt.subplot(2, 1, 2)\n",
    "plt.plot(loss, label='Training Loss')\n",
    "plt.plot(val_loss, label='Validation Loss')\n",
    "plt.legend(loc='upper right')\n",
    "plt.ylabel('Cross Entropy')\n",
    "plt.ylim([0,1.0])\n",
    "plt.title('Training and Validation Loss')\n",
    "plt.xlabel('epoch')\n",
    "plt.show()"
   ]
  },
  {
   "cell_type": "code",
   "execution_count": null,
   "metadata": {},
   "outputs": [],
   "source": []
  }
 ],
 "metadata": {
  "kernelspec": {
   "display_name": "Python [conda env:tf]",
   "language": "python",
   "name": "conda-env-tf-py"
  },
  "language_info": {
   "codemirror_mode": {
    "name": "ipython",
    "version": 3
   },
   "file_extension": ".py",
   "mimetype": "text/x-python",
   "name": "python",
   "nbconvert_exporter": "python",
   "pygments_lexer": "ipython3",
   "version": "3.9.16"
  }
 },
 "nbformat": 4,
 "nbformat_minor": 4
}
