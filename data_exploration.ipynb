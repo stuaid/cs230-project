{
 "cells": [
  {
   "cell_type": "markdown",
   "metadata": {},
   "source": [
    "### Note ###\n",
    "This notebook is used for data exploration and the processing of MAXAR satellite raw images."
   ]
  },
  {
   "cell_type": "code",
   "execution_count": 1,
   "metadata": {},
   "outputs": [],
   "source": [
    "import fiona\n",
    "from fiona import crs\n",
    "import rasterio\n",
    "from rasterio.windows import from_bounds\n",
    "import rasterio.merge\n",
    "from osgeo import gdal\n",
    "import os\n",
    "import numpy as np\n",
    "import matplotlib.pyplot as plt\n",
    "from PIL import Image\n",
    "import pandas as pd\n",
    "from affine import Affine\n",
    "import re"
   ]
  },
  {
   "cell_type": "markdown",
   "metadata": {},
   "source": [
    "### Microsoft labels ###"
   ]
  },
  {
   "cell_type": "code",
   "execution_count": 11,
   "metadata": {},
   "outputs": [],
   "source": [
    "word = '2023-02-07'\n",
    "word2 = '2023-02-09'\n",
    "word3 = '3154100'\n",
    "with open('maxar-file-list.txt', 'r') as fp:\n",
    "    # read all lines in a list\n",
    "    lines = fp.readlines()\n",
    "    for line in lines:\n",
    "        # check if string present on a current line\n",
    "        if line.find(word) == -1 and line.find(word2) == -1 and line.find(word3) != -1:\n",
    "#             print('Line No',lines.index(line))\n",
    "            print(line)"
   ]
  },
  {
   "cell_type": "code",
   "execution_count": 10,
   "metadata": {},
   "outputs": [],
   "source": [
    "building_list = []\n",
    "with fiona.open('islahiye_osm_damage_2_7_2023.gpkg') as layer:\n",
    "# with fiona.open('marash_msft_damage_2_9_2023.gpkg') as layer:\n",
    "    for feature in layer:\n",
    "        building_list.append(feature)"
   ]
  },
  {
   "cell_type": "code",
   "execution_count": 11,
   "metadata": {},
   "outputs": [
    {
     "data": {
      "text/plain": [
       "{'type': 'Feature',\n",
       " 'id': '6',\n",
       " 'properties': OrderedDict([('dmg', 1.9),\n",
       "              ('area_2', 1524.2510583465348),\n",
       "              ('damaged', 0)]),\n",
       " 'geometry': {'type': 'MultiPolygon',\n",
       "  'coordinates': [[[(289844.4355133289, 4101323.5315561765),\n",
       "     (289821.2166125188, 4101420.3926214576),\n",
       "     (289848.13206617895, 4101426.785074384),\n",
       "     (289871.36014090077, 4101329.923873651),\n",
       "     (289860.8185942754, 4101327.4211496105),\n",
       "     (289844.4355133289, 4101323.5315561765)]]]}}"
      ]
     },
     "execution_count": 11,
     "metadata": {},
     "output_type": "execute_result"
    }
   ],
   "source": [
    "building_list[5]"
   ]
  },
  {
   "cell_type": "code",
   "execution_count": 13,
   "metadata": {},
   "outputs": [
    {
     "name": "stdout",
     "output_type": "stream",
     "text": [
      "There are  328  damaged buildings,\n",
      "and  12887  undamaged buildings\n",
      "in a total of  13215  buildings.\n"
     ]
    }
   ],
   "source": [
    "dmg = []\n",
    "damage = []\n",
    "for i in building_list:\n",
    "    dmg.append(i['properties']['dmg'])\n",
    "    damage.append(i['properties']['damaged'])\n",
    "\n",
    "print('There are ',sum(damage),' damaged buildings,')\n",
    "print('and ',len(damage) - sum(damage), ' undamaged buildings')\n",
    "print('in a total of ', len(damage), ' buildings.')"
   ]
  },
  {
   "cell_type": "code",
   "execution_count": 14,
   "metadata": {},
   "outputs": [
    {
     "data": {
      "image/png": "[encoded data removed]",
      "text/plain": [
       "<Figure size 640x480 with 1 Axes>"
      ]
     },
     "metadata": {},
     "output_type": "display_data"
    }
   ],
   "source": [
    "plt.hist(dmg,bins=20);"
   ]
  },
  {
   "cell_type": "code",
   "execution_count": 15,
   "metadata": {},
   "outputs": [
    {
     "data": {
      "text/plain": [
       "1.1814680287552024"
      ]
     },
     "execution_count": 15,
     "metadata": {},
     "output_type": "execute_result"
    }
   ],
   "source": [
    "np.mean(dmg)"
   ]
  },
  {
   "cell_type": "code",
   "execution_count": 11,
   "metadata": {},
   "outputs": [
    {
     "data": {
      "text/plain": [
       "3005"
      ]
     },
     "execution_count": 11,
     "metadata": {},
     "output_type": "execute_result"
    }
   ],
   "source": [
    "to_extract = [i for i in range(len(dmg)) if dmg[i] > 0]\n",
    "damage_np = np.array(damage)\n",
    "damage_np[to_extract]\n",
    "len(damage_np[to_extract])"
   ]
  },
  {
   "cell_type": "code",
   "execution_count": 67,
   "metadata": {},
   "outputs": [
    {
     "name": "stdout",
     "output_type": "stream",
     "text": [
      "[[[[(292616.04877113446, 4111745.8202088913), (292608.52161046234, 4111741.9529187046), (292605.64504026156, 4111747.8859923156), (292612.78085742967, 4111752.107097255), (292616.04877113446, 4111745.8202088913)]], [[(292601.348851305, 4111759.3498946964), (292611.4387850601, 4111765.4856996113), (292617.6009711401, 4111755.4303515432), (292605.4536760696, 4111748.057243851), (292603.05214548274, 4111751.980122527), (292605.10061537346, 4111753.2176357396), (292601.348851305, 4111759.3498946964)]]], [[[(288596.2956262372, 4099458.392299386), (288584.4145328088, 4099464.9956182623), (288591.74506946676, 4099461.5593009302), (288593.33333409275, 4099464.906012403), (288596.6799511074, 4099463.332105555), (288596.2956262372, 4099458.392299386)]], [[(288597.4103863255, 4099472.7205388197), (288597.2545387361, 4099470.717397875), (288596.6111136621, 4099471.019553855), (288597.4103863255, 4099472.7205388197)]]]]\n"
     ]
    }
   ],
   "source": [
    "list_coords = []\n",
    "for i in building_list:\n",
    "    list_coords.append(i['geometry']['coordinates'])\n",
    "print([x for x in list_coords if len(x) > 1])"
   ]
  },
  {
   "cell_type": "markdown",
   "metadata": {},
   "source": [
    "### xBD labels ###"
   ]
  },
  {
   "cell_type": "code",
   "execution_count": 2,
   "metadata": {},
   "outputs": [
    {
     "data": {
      "text/plain": [
       "rasterio.io.DatasetReader"
      ]
     },
     "execution_count": 2,
     "metadata": {},
     "output_type": "execute_result"
    }
   ],
   "source": [
    "# Data dir\n",
    "data_dir = \"xBD_Dataset\\\\xView2_baseline\\\\geotiffs\\\\mexico_hold\"\n",
    "fp = os.path.join(data_dir, \"mexico-earthquake_00000014_post_disaster.tif\")\n",
    "\n",
    "# Open the file:\n",
    "raster = rasterio.open(fp)\n",
    "\n",
    "# Check type of the variable 'raster'\n",
    "type(raster)"
   ]
  },
  {
   "cell_type": "code",
   "execution_count": 3,
   "metadata": {},
   "outputs": [
    {
     "data": {
      "text/plain": [
       "BoundingBox(left=-99.21445245859894, bottom=19.313433437889817, right=-99.20985007215074, top=19.31803582433801)"
      ]
     },
     "execution_count": 3,
     "metadata": {},
     "output_type": "execute_result"
    }
   ],
   "source": [
    "raster.bounds"
   ]
  },
  {
   "cell_type": "code",
   "execution_count": 9,
   "metadata": {},
   "outputs": [
    {
     "data": {
      "text/plain": [
       "19.31803582433801"
      ]
     },
     "execution_count": 9,
     "metadata": {},
     "output_type": "execute_result"
    }
   ],
   "source": [
    "rxmin,rymin,rxmax,rymax = raster.bounds\n",
    "rymax"
   ]
  },
  {
   "cell_type": "code",
   "execution_count": 70,
   "metadata": {},
   "outputs": [
    {
     "data": {
      "text/plain": [
       "[{'min': 4, 'mean': 97.78862190246582, 'median': 89.0, 'max': 255},\n",
       " {'min': 5, 'mean': 93.34456157684326, 'median': 88.0, 'max': 255},\n",
       " {'min': 3, 'mean': 74.1468858718872, 'median': 68.0, 'max': 255}]"
      ]
     },
     "execution_count": 70,
     "metadata": {},
     "output_type": "execute_result"
    }
   ],
   "source": [
    "# Read all bands\n",
    "array = raster.read()\n",
    "\n",
    "# Calculate statistics for each band\n",
    "stats = []\n",
    "for band in array:\n",
    "    stats.append({\n",
    "        'min': band.min(),\n",
    "        'mean': band.mean(),\n",
    "        'median': np.median(band),\n",
    "        'max': band.max()})\n",
    "\n",
    "# Show stats for each channel\n",
    "stats"
   ]
  },
  {
   "cell_type": "code",
   "execution_count": 237,
   "metadata": {},
   "outputs": [
    {
     "name": "stdout",
     "output_type": "stream",
     "text": [
      "socal-fire_00000082_post_disaster.json\n",
      "socal-fire_00000114_post_disaster.json\n",
      "socal-fire_00000253_post_disaster.json\n",
      "socal-fire_00000268_post_disaster.json\n",
      "socal-fire_00000348_post_disaster.json\n",
      "socal-fire_00000360_post_disaster.json\n",
      "socal-fire_00000387_post_disaster.json\n",
      "socal-fire_00000408_post_disaster.json\n",
      "socal-fire_00000494_post_disaster.json\n",
      "socal-fire_00000501_post_disaster.json\n",
      "socal-fire_00000525_post_disaster.json\n",
      "socal-fire_00000573_post_disaster.json\n",
      "socal-fire_00000631_post_disaster.json\n",
      "socal-fire_00000657_post_disaster.json\n",
      "socal-fire_00000662_post_disaster.json\n",
      "socal-fire_00000663_post_disaster.json\n",
      "socal-fire_00000679_post_disaster.json\n",
      "socal-fire_00000805_post_disaster.json\n",
      "socal-fire_00000817_post_disaster.json\n",
      "socal-fire_00000821_post_disaster.json\n",
      "socal-fire_00000862_post_disaster.json\n",
      "socal-fire_00000886_post_disaster.json\n",
      "socal-fire_00000913_post_disaster.json\n",
      "socal-fire_00000962_post_disaster.json\n",
      "socal-fire_00000987_post_disaster.json\n",
      "socal-fire_00001000_post_disaster.json\n",
      "socal-fire_00001001_post_disaster.json\n",
      "socal-fire_00001023_post_disaster.json\n",
      "socal-fire_00001075_post_disaster.json\n",
      "socal-fire_00001176_post_disaster.json\n",
      "socal-fire_00001245_post_disaster.json\n",
      "socal-fire_00001254_post_disaster.json\n",
      "socal-fire_00001268_post_disaster.json\n"
     ]
    }
   ],
   "source": [
    "for filename in os.listdir('socal/'):\n",
    "    test = pd.read_json('socal/'+filename)['features']['lng_lat']\n",
    "    df = pd.json_normalize(test)\n",
    "    if (df.shape[0] > 20 and sum(df['properties.subtype']=='destroyed')>10):\n",
    "        print(filename)\n"
   ]
  },
  {
   "cell_type": "code",
   "execution_count": 58,
   "metadata": {},
   "outputs": [
    {
     "data": {
      "text/html": [
       "<div>\n",
       "<style scoped>\n",
       "    .dataframe tbody tr th:only-of-type {\n",
       "        vertical-align: middle;\n",
       "    }\n",
       "\n",
       "    .dataframe tbody tr th {\n",
       "        vertical-align: top;\n",
       "    }\n",
       "\n",
       "    .dataframe thead th {\n",
       "        text-align: right;\n",
       "    }\n",
       "</style>\n",
       "<table border=\"1\" class=\"dataframe\">\n",
       "  <thead>\n",
       "    <tr style=\"text-align: right;\">\n",
       "      <th></th>\n",
       "      <th>wkt</th>\n",
       "      <th>properties.feature_type</th>\n",
       "      <th>properties.subtype</th>\n",
       "      <th>properties.uid</th>\n",
       "    </tr>\n",
       "  </thead>\n",
       "  <tbody>\n",
       "    <tr>\n",
       "      <th>0</th>\n",
       "      <td>POLYGON ((87.33036420713326 220.5026577770713,...</td>\n",
       "      <td>building</td>\n",
       "      <td>destroyed</td>\n",
       "      <td>a1f35493-6c07-474a-9de9-3917aca471dd</td>\n",
       "    </tr>\n",
       "    <tr>\n",
       "      <th>1</th>\n",
       "      <td>POLYGON ((190.1643463558908 284.4835602812355,...</td>\n",
       "      <td>building</td>\n",
       "      <td>destroyed</td>\n",
       "      <td>fb421ec1-2b69-4d9c-a4d3-2f42cb0d6e52</td>\n",
       "    </tr>\n",
       "    <tr>\n",
       "      <th>2</th>\n",
       "      <td>POLYGON ((247.1707234124513 296.7856273255641,...</td>\n",
       "      <td>building</td>\n",
       "      <td>destroyed</td>\n",
       "      <td>2ff1eeb7-bede-452d-9809-fa5562eac0b8</td>\n",
       "    </tr>\n",
       "    <tr>\n",
       "      <th>3</th>\n",
       "      <td>POLYGON ((274.915601020236 311.1507083816043, ...</td>\n",
       "      <td>building</td>\n",
       "      <td>destroyed</td>\n",
       "      <td>cabe020e-c406-4b8c-9468-8b4349176b29</td>\n",
       "    </tr>\n",
       "    <tr>\n",
       "      <th>4</th>\n",
       "      <td>POLYGON ((350.1014731899117 395.0397300055849,...</td>\n",
       "      <td>building</td>\n",
       "      <td>no-damage</td>\n",
       "      <td>9004f1e5-a712-4915-9815-b3171a1571cb</td>\n",
       "    </tr>\n",
       "    <tr>\n",
       "      <th>...</th>\n",
       "      <td>...</td>\n",
       "      <td>...</td>\n",
       "      <td>...</td>\n",
       "      <td>...</td>\n",
       "    </tr>\n",
       "    <tr>\n",
       "      <th>61</th>\n",
       "      <td>POLYGON ((116.4813064597967 340.0252397234382,...</td>\n",
       "      <td>building</td>\n",
       "      <td>destroyed</td>\n",
       "      <td>2f70c21f-2358-4b85-969d-2ea7a939fcc6</td>\n",
       "    </tr>\n",
       "    <tr>\n",
       "      <th>62</th>\n",
       "      <td>POLYGON ((33.28454401000153 332.0763577915762,...</td>\n",
       "      <td>building</td>\n",
       "      <td>no-damage</td>\n",
       "      <td>236aec4a-d7ca-40a5-a4c3-91875939371a</td>\n",
       "    </tr>\n",
       "    <tr>\n",
       "      <th>63</th>\n",
       "      <td>POLYGON ((162.9288736083031 177.8199807578942,...</td>\n",
       "      <td>building</td>\n",
       "      <td>destroyed</td>\n",
       "      <td>24a9745f-353c-4792-8f97-c159437e0cdd</td>\n",
       "    </tr>\n",
       "    <tr>\n",
       "      <th>64</th>\n",
       "      <td>POLYGON ((1000.306627752116 825.5726570999715,...</td>\n",
       "      <td>building</td>\n",
       "      <td>no-damage</td>\n",
       "      <td>fb973ad3-74bd-4576-9dff-48661bd11306</td>\n",
       "    </tr>\n",
       "    <tr>\n",
       "      <th>65</th>\n",
       "      <td>POLYGON ((233.3321984455449 534.0317513870597,...</td>\n",
       "      <td>building</td>\n",
       "      <td>no-damage</td>\n",
       "      <td>6186aca9-53ec-4341-824a-21643c0bf69a</td>\n",
       "    </tr>\n",
       "  </tbody>\n",
       "</table>\n",
       "<p>66 rows × 4 columns</p>\n",
       "</div>"
      ],
      "text/plain": [
       "                                                  wkt properties.feature_type  \\\n",
       "0   POLYGON ((87.33036420713326 220.5026577770713,...                building   \n",
       "1   POLYGON ((190.1643463558908 284.4835602812355,...                building   \n",
       "2   POLYGON ((247.1707234124513 296.7856273255641,...                building   \n",
       "3   POLYGON ((274.915601020236 311.1507083816043, ...                building   \n",
       "4   POLYGON ((350.1014731899117 395.0397300055849,...                building   \n",
       "..                                                ...                     ...   \n",
       "61  POLYGON ((116.4813064597967 340.0252397234382,...                building   \n",
       "62  POLYGON ((33.28454401000153 332.0763577915762,...                building   \n",
       "63  POLYGON ((162.9288736083031 177.8199807578942,...                building   \n",
       "64  POLYGON ((1000.306627752116 825.5726570999715,...                building   \n",
       "65  POLYGON ((233.3321984455449 534.0317513870597,...                building   \n",
       "\n",
       "   properties.subtype                        properties.uid  \n",
       "0           destroyed  a1f35493-6c07-474a-9de9-3917aca471dd  \n",
       "1           destroyed  fb421ec1-2b69-4d9c-a4d3-2f42cb0d6e52  \n",
       "2           destroyed  2ff1eeb7-bede-452d-9809-fa5562eac0b8  \n",
       "3           destroyed  cabe020e-c406-4b8c-9468-8b4349176b29  \n",
       "4           no-damage  9004f1e5-a712-4915-9815-b3171a1571cb  \n",
       "..                ...                                   ...  \n",
       "61          destroyed  2f70c21f-2358-4b85-969d-2ea7a939fcc6  \n",
       "62          no-damage  236aec4a-d7ca-40a5-a4c3-91875939371a  \n",
       "63          destroyed  24a9745f-353c-4792-8f97-c159437e0cdd  \n",
       "64          no-damage  fb973ad3-74bd-4576-9dff-48661bd11306  \n",
       "65          no-damage  6186aca9-53ec-4341-824a-21643c0bf69a  \n",
       "\n",
       "[66 rows x 4 columns]"
      ]
     },
     "execution_count": 58,
     "metadata": {},
     "output_type": "execute_result"
    }
   ],
   "source": [
    "test = pd.read_json('socal/socal-fire_00001268_post_disaster.json')['features']['xy']\n",
    "df = pd.json_normalize(test)\n",
    "df"
   ]
  },
  {
   "cell_type": "code",
   "execution_count": 53,
   "metadata": {},
   "outputs": [],
   "source": [
    "pd.read_json('socal/socal-fire_00001268_post_disaster.json')"
   ]
  },
  {
   "cell_type": "code",
   "execution_count": 59,
   "metadata": {},
   "outputs": [],
   "source": [
    "df.to_csv('example.csv')"
   ]
  },
  {
   "cell_type": "code",
   "execution_count": 11,
   "metadata": {},
   "outputs": [],
   "source": [
    "row = df.iloc[0,:]\n",
    "# print(row['wkt'])\n",
    "# two groups enclosed in separate ( and ) bracket\n",
    "result = re.findall(r\"(\\-?\\d+\\.\\d+)\\s(\\-?\\d+\\.\\d+)\", row['wkt'])\n",
    "\n",
    "ymax = 0\n",
    "ymin = 0\n",
    "xmax = 0\n",
    "xmin = 0\n",
    "xvals = []\n",
    "yvals = []\n",
    "for i in result:\n",
    "    xvals.append(float(i[0]))\n",
    "    yvals.append(float(i[1]))\n",
    "\n",
    "ymax = max(yvals) + 0.00001\n",
    "ymin = min(yvals) - 0.00001\n",
    "xmax = max(xvals) + 0.00001\n",
    "xmin = min(xvals) - 0.00001"
   ]
  },
  {
   "cell_type": "code",
   "execution_count": 12,
   "metadata": {},
   "outputs": [],
   "source": [
    "# geoms = [{'type': 'Polygon', 'coordinates': [[(250204.0, 141868.0), (250942.0, 141868.0), (250942.0, 141208.0), (250204.0, 141208.0), (250204.0, 141868.0)]]}]\n",
    "# # load the raster, mask it by the polygon and crop it\n",
    "# with rasterio.open(\"test.tif\") as src:\n",
    "#     out_image, out_transform = mask(src, geoms, crop=True)\n",
    "# out_meta = src.meta.copy()\n",
    "\n",
    "# # save the resulting raster  \n",
    "# out_meta.update({\"driver\": \"GTiff\",\n",
    "#     \"height\": out_image.shape[1],\n",
    "#     \"width\": out_image.shape[2],\n",
    "# \"transform\": out_transform})\n",
    "\n",
    "# with rasterio.open(\"masked.tif\", \"w\", **out_meta) as dest:\n",
    "#     dest.write(out_image)"
   ]
  },
  {
   "cell_type": "code",
   "execution_count": 13,
   "metadata": {},
   "outputs": [
    {
     "ename": "RasterioIOError",
     "evalue": "socal/socal-fire_00001268_post_disaster.tif: No such file or directory",
     "output_type": "error",
     "traceback": [
      "\u001b[1;31m---------------------------------------------------------------------------\u001b[0m",
      "\u001b[1;31mCPLE_OpenFailedError\u001b[0m                      Traceback (most recent call last)",
      "File \u001b[1;32mrasterio\\_base.pyx:261\u001b[0m, in \u001b[0;36mrasterio._base.DatasetBase.__init__\u001b[1;34m()\u001b[0m\n",
      "File \u001b[1;32mrasterio\\_shim.pyx:78\u001b[0m, in \u001b[0;36mrasterio._shim.open_dataset\u001b[1;34m()\u001b[0m\n",
      "File \u001b[1;32mrasterio\\_err.pyx:216\u001b[0m, in \u001b[0;36mrasterio._err.exc_wrap_pointer\u001b[1;34m()\u001b[0m\n",
      "\u001b[1;31mCPLE_OpenFailedError\u001b[0m: socal/socal-fire_00001268_post_disaster.tif: No such file or directory",
      "\nDuring handling of the above exception, another exception occurred:\n",
      "\u001b[1;31mRasterioIOError\u001b[0m                           Traceback (most recent call last)",
      "Cell \u001b[1;32mIn[13], line 6\u001b[0m\n\u001b[0;32m      3\u001b[0m     col_stop, row_stop \u001b[38;5;241m=\u001b[39m \u001b[38;5;241m~\u001b[39maff \u001b[38;5;241m*\u001b[39m (xmax, ymin)\n\u001b[0;32m      4\u001b[0m     \u001b[38;5;28;01mreturn\u001b[39;00m ((\u001b[38;5;28mint\u001b[39m(row_start), \u001b[38;5;28mint\u001b[39m(row_stop)), (\u001b[38;5;28mint\u001b[39m(col_start), \u001b[38;5;28mint\u001b[39m(col_stop)))\n\u001b[1;32m----> 6\u001b[0m \u001b[38;5;28;01mwith\u001b[39;00m \u001b[43mrasterio\u001b[49m\u001b[38;5;241;43m.\u001b[39;49m\u001b[43mopen\u001b[49m\u001b[43m(\u001b[49m\u001b[38;5;124;43m'\u001b[39;49m\u001b[38;5;124;43msocal/socal-fire_00001268_post_disaster.tif\u001b[39;49m\u001b[38;5;124;43m'\u001b[39;49m\u001b[43m)\u001b[49m \u001b[38;5;28;01mas\u001b[39;00m src:\n\u001b[0;32m      7\u001b[0m     aff \u001b[38;5;241m=\u001b[39m src\u001b[38;5;241m.\u001b[39mtransform\n\u001b[0;32m      8\u001b[0m     meta \u001b[38;5;241m=\u001b[39m src\u001b[38;5;241m.\u001b[39mmeta\u001b[38;5;241m.\u001b[39mcopy()\n",
      "File \u001b[1;32mD:\\Anaconda3\\envs\\xbd\\lib\\site-packages\\rasterio\\env.py:437\u001b[0m, in \u001b[0;36mensure_env_with_credentials.<locals>.wrapper\u001b[1;34m(*args, **kwds)\u001b[0m\n\u001b[0;32m    434\u001b[0m     session \u001b[38;5;241m=\u001b[39m DummySession()\n\u001b[0;32m    436\u001b[0m \u001b[38;5;28;01mwith\u001b[39;00m env_ctor(session\u001b[38;5;241m=\u001b[39msession):\n\u001b[1;32m--> 437\u001b[0m     \u001b[38;5;28;01mreturn\u001b[39;00m f(\u001b[38;5;241m*\u001b[39margs, \u001b[38;5;241m*\u001b[39m\u001b[38;5;241m*\u001b[39mkwds)\n",
      "File \u001b[1;32mD:\\Anaconda3\\envs\\xbd\\lib\\site-packages\\rasterio\\__init__.py:220\u001b[0m, in \u001b[0;36mopen\u001b[1;34m(fp, mode, driver, width, height, count, crs, transform, dtype, nodata, sharing, **kwargs)\u001b[0m\n\u001b[0;32m    216\u001b[0m \u001b[38;5;66;03m# Create dataset instances and pass the given env, which will\u001b[39;00m\n\u001b[0;32m    217\u001b[0m \u001b[38;5;66;03m# be taken over by the dataset's context manager if it is not\u001b[39;00m\n\u001b[0;32m    218\u001b[0m \u001b[38;5;66;03m# None.\u001b[39;00m\n\u001b[0;32m    219\u001b[0m \u001b[38;5;28;01mif\u001b[39;00m mode \u001b[38;5;241m==\u001b[39m \u001b[38;5;124m'\u001b[39m\u001b[38;5;124mr\u001b[39m\u001b[38;5;124m'\u001b[39m:\n\u001b[1;32m--> 220\u001b[0m     s \u001b[38;5;241m=\u001b[39m DatasetReader(path, driver\u001b[38;5;241m=\u001b[39mdriver, sharing\u001b[38;5;241m=\u001b[39msharing, \u001b[38;5;241m*\u001b[39m\u001b[38;5;241m*\u001b[39mkwargs)\n\u001b[0;32m    221\u001b[0m \u001b[38;5;28;01melif\u001b[39;00m mode \u001b[38;5;241m==\u001b[39m \u001b[38;5;124m\"\u001b[39m\u001b[38;5;124mr+\u001b[39m\u001b[38;5;124m\"\u001b[39m:\n\u001b[0;32m    222\u001b[0m     s \u001b[38;5;241m=\u001b[39m get_writer_for_path(path, driver\u001b[38;5;241m=\u001b[39mdriver)(\n\u001b[0;32m    223\u001b[0m         path, mode, driver\u001b[38;5;241m=\u001b[39mdriver, sharing\u001b[38;5;241m=\u001b[39msharing, \u001b[38;5;241m*\u001b[39m\u001b[38;5;241m*\u001b[39mkwargs\n\u001b[0;32m    224\u001b[0m     )\n",
      "File \u001b[1;32mrasterio\\_base.pyx:263\u001b[0m, in \u001b[0;36mrasterio._base.DatasetBase.__init__\u001b[1;34m()\u001b[0m\n",
      "\u001b[1;31mRasterioIOError\u001b[0m: socal/socal-fire_00001268_post_disaster.tif: No such file or directory"
     ]
    }
   ],
   "source": [
    "def window_from_extent(xmin, xmax, ymin, ymax, aff):\n",
    "    col_start, row_start = ~aff * (xmin, ymax)\n",
    "    col_stop, row_stop = ~aff * (xmax, ymin)\n",
    "    return ((int(row_start), int(row_stop)), (int(col_start), int(col_stop)))\n",
    "\n",
    "with rasterio.open('socal/socal-fire_00001268_post_disaster.tif') as src:\n",
    "    aff = src.transform\n",
    "    meta = src.meta.copy()\n",
    "    window = window_from_extent(xmin, xmax, ymin, ymax, aff)\n",
    "    # Read croped array\n",
    "    arr1 = src.read(1, window=window)\n",
    "    arr2 = src.read(2, window=window)\n",
    "    arr3 = src.read(3, window=window)\n",
    "    # Update dataset metadata (if you need it)\n",
    "#     meta.update(height = window[0][1] - window[0][0],\n",
    "#                 width = window[1][1] - window[1][0],\n",
    "#                 affine = src.window_transform(window))\n",
    "#     meta.pop('transform', None\n",
    "\n",
    "rgb = np.dstack((arr1,arr2,arr3)).astype(np.uint8)\n",
    "rgb.shape"
   ]
  },
  {
   "cell_type": "code",
   "execution_count": 14,
   "metadata": {},
   "outputs": [
    {
     "ename": "NameError",
     "evalue": "name 'rgb' is not defined",
     "output_type": "error",
     "traceback": [
      "\u001b[1;31m---------------------------------------------------------------------------\u001b[0m",
      "\u001b[1;31mNameError\u001b[0m                                 Traceback (most recent call last)",
      "Cell \u001b[1;32mIn[14], line 2\u001b[0m\n\u001b[0;32m      1\u001b[0m \u001b[38;5;66;03m# Use PIL to create an image from the new array of pixels\u001b[39;00m\n\u001b[1;32m----> 2\u001b[0m new_image \u001b[38;5;241m=\u001b[39m Image\u001b[38;5;241m.\u001b[39mfromarray(\u001b[43mrgb\u001b[49m)\n\u001b[0;32m      3\u001b[0m new_image\u001b[38;5;241m.\u001b[39msave(\u001b[38;5;124m'\u001b[39m\u001b[38;5;124m./temp/\u001b[39m\u001b[38;5;124m'\u001b[39m\u001b[38;5;241m+\u001b[39m\u001b[38;5;124m'\u001b[39m\u001b[38;5;124mnew.png\u001b[39m\u001b[38;5;124m'\u001b[39m)\n",
      "\u001b[1;31mNameError\u001b[0m: name 'rgb' is not defined"
     ]
    }
   ],
   "source": [
    "# Use PIL to create an image from the new array of pixels\n",
    "new_image = Image.fromarray(rgb)\n",
    "new_image.save('./temp/'+'new.png')"
   ]
  },
  {
   "cell_type": "markdown",
   "metadata": {},
   "source": [
    "### Cell to extract buildings using coordinates###"
   ]
  },
  {
   "cell_type": "code",
   "execution_count": 64,
   "metadata": {},
   "outputs": [
    {
     "name": "stdout",
     "output_type": "stream",
     "text": [
      "Window(col_off=76.96967252716422, row_off=147.14532839134336, width=118.51727210730314, height=103.08053905889392)\n",
      "(103, 118, 3)\n",
      "Window(col_off=164.38121513277292, row_off=225.49462271574885, width=117.84565267711878, height=102.69234538823366)\n",
      "(102, 117, 3)\n",
      "Window(col_off=251.5690252929926, row_off=244.2037111259997, width=79.44165228307247, height=70.19163086358458)\n",
      "(70, 79, 3)\n",
      "Window(col_off=274.0431630462408, row_off=269.96738676168025, width=92.37033214792609, height=88.52298608515412)\n",
      "(88, 92, 3)\n",
      "Window(col_off=364.9425850510597, row_off=332.81259485613555, width=129.35421590134501, height=118.07208265736699)\n",
      "(118, 129, 3)\n",
      "Window(col_off=356.35157638415694, row_off=406.4897752767429, width=98.81081383302808, height=114.52177909016609)\n",
      "(114, 98, 3)\n",
      "Window(col_off=604.1453149169683, row_off=376.94732451159507, width=125.54751097038388, height=110.34293636865914)\n",
      "(110, 125, 3)\n",
      "Window(col_off=726.3725012019277, row_off=387.98066946677864, width=120.37537128478289, height=75.94353254884481)\n",
      "(75, 120, 3)\n",
      "Window(col_off=869.1824447773397, row_off=299.89383284188807, width=119.1430076546967, height=79.8290227279067)\n",
      "(79, 119, 3)\n",
      "Window(col_off=849.4594072066247, row_off=205.8519207565114, width=81.31506562232971, height=90.24270620755851)\n",
      "(90, 81, 3)\n",
      "Window(col_off=908.181309171021, row_off=243.58764312043786, width=70.67813623696566, height=58.65165423043072)\n",
      "(58, 70, 3)\n",
      "Window(col_off=865.3464645519853, row_off=91.12241883855313, width=135.2698958516121, height=111.26922048162669)\n",
      "(111, 135, 3)\n",
      "Window(col_off=933.75885046646, row_off=26.45106084086001, width=90.24114953354001, height=104.06434917543083)\n",
      "(104, 90, 3)\n",
      "Window(col_off=1019.1564588062465, row_off=0.0, width=4.843541193753481, height=54.75586372055113)\n",
      "(54, 4, 3)\n",
      "Window(col_off=939.5347864888608, row_off=459.3216678779572, width=84.46521351113915, height=110.4976984038949)\n",
      "(110, 84, 3)\n",
      "Window(col_off=847.4883662201464, row_off=657.9633867153898, width=121.55964314565063, height=96.02902319096029)\n",
      "(96, 121, 3)\n",
      "Window(col_off=841.0683734677732, row_off=720.8317856322974, width=169.9815918840468, height=90.68662756867707)\n",
      "(90, 169, 3)\n",
      "Window(col_off=776.9541072845459, row_off=763.6513457465917, width=136.87665974348783, height=110.96694833040237)\n",
      "(110, 136, 3)\n",
      "Window(col_off=931.8223312534392, row_off=870.4049946852028, width=92.17766874656081, height=76.19806690700352)\n",
      "(76, 92, 3)\n",
      "Window(col_off=964.161780949682, row_off=559.5879985373467, width=59.838219050318, height=98.67803190555423)\n",
      "(98, 59, 3)\n",
      "Window(col_off=0.0, row_off=706.8130964441225, width=71.6447745077312, height=78.04963998589665)\n",
      "(78, 71, 3)\n",
      "Window(col_off=30.706981278955936, row_off=699.4552845237777, width=111.89106973260641, height=88.00210821162909)\n",
      "(88, 111, 3)\n",
      "Window(col_off=272.3962853513658, row_off=700.7118706693873, width=90.18656138330698, height=123.0976449130103)\n",
      "(123, 90, 3)\n",
      "Window(col_off=402.34667944163084, row_off=694.0678444812074, width=105.16508850082755, height=95.94937632232904)\n",
      "(95, 105, 3)\n",
      "Window(col_off=468.52028826251626, row_off=628.4574709162116, width=106.70541451126337, height=90.92754162102938)\n",
      "(90, 106, 3)\n",
      "Window(col_off=175.58975484222174, row_off=473.4069015169516, width=95.42935649678111, height=79.93326689302921)\n",
      "(79, 95, 3)\n",
      "Window(col_off=0.0, row_off=404.4685926511884, width=120.78451027348638, height=151.12865495681763)\n",
      "(151, 120, 3)\n",
      "Window(col_off=53.97751972824335, row_off=562.400598003529, width=84.7772297039628, height=101.1028310097754)\n",
      "(101, 84, 3)\n",
      "Window(col_off=317.9106150455773, row_off=631.5233565866947, width=82.95919666066766, height=70.36955680791289)\n",
      "(70, 82, 3)\n",
      "Window(col_off=211.17980731278658, row_off=506.69957604724914, width=69.85699709877372, height=76.26226850878447)\n",
      "(76, 69, 3)\n",
      "Window(col_off=233.0152939260006, row_off=888.9407583959401, width=111.8192089125514, height=68.3361881468445)\n",
      "(68, 111, 3)\n",
      "Window(col_off=480.88804318383336, row_off=896.6358836805448, width=101.24356811121106, height=57.00059524830431)\n",
      "(57, 101, 3)\n",
      "Window(col_off=219.6324920244515, row_off=198.72790554631501, width=88.50837675854564, height=63.98013952653855)\n",
      "(63, 88, 3)\n",
      "Window(col_off=817.5706124417484, row_off=0.0, width=107.22926900908351, height=68.78172353096306)\n",
      "(68, 107, 3)\n",
      "Window(col_off=708.9510065615177, row_off=219.40444281231612, width=64.90893135219812, height=65.00109190866351)\n",
      "(65, 64, 3)\n",
      "Window(col_off=530.5571345724165, row_off=243.06137916631997, width=91.86937548220158, height=99.80450320988894)\n",
      "(99, 91, 3)\n",
      "Window(col_off=182.36399510502815, row_off=182.13099767174572, width=77.60201339796185, height=63.512058863416314)\n",
      "(63, 77, 3)\n",
      "Window(col_off=924.5239001363516, row_off=321.219539177604, width=71.45361767336726, height=67.21005781460553)\n",
      "(67, 71, 3)\n",
      "Window(col_off=627.8680116198957, row_off=304.0559092015028, width=67.31071568652987, height=63.20995354279876)\n",
      "(63, 67, 3)\n",
      "Window(col_off=610.958315666765, row_off=313.5418925611302, width=63.071561738848686, height=60.75701967347413)\n",
      "(60, 63, 3)\n",
      "Window(col_off=581.5889681503177, row_off=412.66061843093485, width=67.44244353845716, height=62.445349923335016)\n",
      "(62, 67, 3)\n",
      "Window(col_off=477.4881847202778, row_off=362.53080127574503, width=54.84604950249195, height=53.682095281779766)\n",
      "(53, 54, 3)\n",
      "Window(col_off=445.1474537625909, row_off=347.65054346621037, width=63.81654326990247, height=56.384653775952756)\n",
      "(56, 63, 3)\n",
      "Window(col_off=484.4288235604763, row_off=347.69855276308954, width=59.051506109535694, height=56.12639262992889)\n",
      "(56, 59, 3)\n",
      "Window(col_off=210.9756789728999, row_off=606.6155033363029, width=55.73885976523161, height=58.6276469649747)\n",
      "(58, 55, 3)\n",
      "Window(col_off=230.33086396753788, row_off=648.0423887073994, width=61.486240182071924, height=64.11559653282166)\n",
      "(64, 61, 3)\n",
      "Window(col_off=156.71998645365238, row_off=673.6076973564923, width=56.60507608577609, height=50.43401935044676)\n",
      "(50, 56, 3)\n",
      "Window(col_off=259.3932004570961, row_off=520.4457459459081, width=54.0307462066412, height=56.40190398693085)\n",
      "(56, 54, 3)\n",
      "Window(col_off=465.778671592474, row_off=870.4991170242429, width=66.22154973819852, height=56.44869330152869)\n",
      "(56, 66, 3)\n",
      "Window(col_off=427.93045300245285, row_off=897.0111559256911, width=51.640730891376734, height=56.36884970124811)\n",
      "(56, 51, 3)\n",
      "Window(col_off=821.9158328510821, row_off=685.6020489949733, width=56.341352470219135, height=61.332391827367246)\n",
      "(61, 56, 3)\n",
      "Window(col_off=801.0883505642414, row_off=684.5936711225659, width=54.91659093648195, height=56.08656221348792)\n",
      "(56, 54, 3)\n",
      "Window(col_off=109.57554589956999, row_off=228.29533408395946, width=56.76821170002222, height=58.44540278613567)\n",
      "(58, 56, 3)\n",
      "Window(col_off=157.9423312060535, row_off=237.65809385851026, width=62.17253468185663, height=60.45798547659069)\n",
      "(60, 62, 3)\n",
      "Window(col_off=162.2698965445161, row_off=279.7147114649415, width=65.46538579836488, height=59.29750977922231)\n",
      "(59, 65, 3)\n",
      "Window(col_off=148.44186232239008, row_off=323.30949354637414, width=61.748730666935444, height=60.53861508704722)\n",
      "(60, 61, 3)\n",
      "Window(col_off=103.725456148386, row_off=298.9623685646802, width=57.76088344305754, height=57.34083544649184)\n",
      "(57, 57, 3)\n",
      "Window(col_off=17.82346087694168, row_off=293.4046514816582, width=55.1679424084723, height=53.66519602481276)\n",
      "(53, 55, 3)\n",
      "Window(col_off=158.04225711897016, row_off=148.70964537654072, width=66.21867331117392, height=60.05164420977235)\n",
      "(60, 66, 3)\n",
      "Window(col_off=241.11596009507775, row_off=472.3560145525262, width=67.65444242954254, height=80.99782710615546)\n",
      "(80, 67, 3)\n"
     ]
    }
   ],
   "source": [
    "test = pd.read_json('socal/socal-fire_00001268_post_disaster.json')['features']['lng_lat']\n",
    "df = pd.json_normalize(test)\n",
    "df\n",
    "for j in range(df.shape[0]):\n",
    "    row = df.iloc[j,:]\n",
    "    uid = df.loc[j,'properties.uid']\n",
    "    # print(row['wkt'])\n",
    "    # two groups enclosed in separate ( and ) bracket\n",
    "    result = re.findall(r\"(\\-?\\d+\\.\\d+)\\s(\\-?\\d+\\.\\d+)\", row['wkt'])\n",
    "    \n",
    "    ymax = 0\n",
    "    ymin = 0\n",
    "    xmax = 0\n",
    "    xmin = 0\n",
    "    xvals = []\n",
    "    yvals = []\n",
    "    for i in result:\n",
    "        xvals.append(float(i[0]))\n",
    "        yvals.append(float(i[1]))\n",
    "\n",
    "    ymax = max(yvals) + 0.0001\n",
    "    ymin = min(yvals) - 0.0001\n",
    "    xmax = max(xvals) + 0.0001\n",
    "    xmin = min(xvals) - 0.0001\n",
    "    \n",
    "    with rasterio.open('socal-fire_00001268_pre_disaster.tif') as src:\n",
    "        aff = src.transform\n",
    "#         meta = src.meta.copy()\n",
    "        rxmin,rymin,rxmax,rymax = src.bounds\n",
    "        ymax = min(ymax,rymax)\n",
    "        ymin = max(ymin,rymin)\n",
    "        xmax = min(xmax,rxmax)\n",
    "        xmin = max(xmin,rxmin)\n",
    "        try:\n",
    "            window = from_bounds(xmin, ymin, xmax, ymax, aff)\n",
    "        except:\n",
    "            continue\n",
    "#         Read croped array\n",
    "        print(window)\n",
    "        arr1 = src.read(1, window=window)\n",
    "        arr2 = src.read(2, window=window)\n",
    "        arr3 = src.read(3, window=window)\n",
    "#         Update dataset metadata (if you need it)\n",
    "#         meta.update(height = window[0][1] - window[0][0],\n",
    "#                     width = window[1][1] - window[1][0],\n",
    "#                     affine = src.window_transform(window))\n",
    "#         meta.pop('transform', None\n",
    "\n",
    "    rgb = np.dstack((arr1,arr2,arr3)).astype(np.uint8)\n",
    "    print(rgb.shape)\n",
    "    new_image = Image.fromarray(rgb)\n",
    "    new_image.save('./temp1/' + uid + '.png')"
   ]
  },
  {
   "cell_type": "markdown",
   "metadata": {},
   "source": [
    "### Cell to extract buildings using xy values ###"
   ]
  },
  {
   "cell_type": "code",
   "execution_count": 68,
   "metadata": {},
   "outputs": [
    {
     "name": "stdout",
     "output_type": "stream",
     "text": [
      "(86, 90, 3)\n",
      "(86, 89, 3)\n",
      "(50, 53, 3)\n",
      "(69, 64, 3)\n",
      "(103, 98, 3)\n",
      "(98, 70, 3)\n",
      "(95, 95, 3)\n",
      "(56, 91, 3)\n",
      "(59, 90, 3)\n",
      "(72, 55, 3)\n",
      "(36, 45, 3)\n",
      "(95, 106, 3)\n",
      "(87, 92, 3)\n",
      "(45, 74, 3)\n",
      "(85, 52, 3)\n",
      "(94, 81, 3)\n",
      "(79, 92, 3)\n",
      "(70, 137, 3)\n",
      "(95, 106, 3)\n",
      "(48, 79, 3)\n",
      "(63, 57, 3)\n",
      "(61, 60, 3)\n",
      "(81, 69, 3)\n",
      "(53, 30, 3)\n",
      "(69, 82, 3)\n",
      "(108, 64, 3)\n",
      "(78, 76, 3)\n",
      "(72, 78, 3)\n",
      "(60, 67, 3)\n",
      "(139, 93, 3)\n",
      "(83, 59, 3)\n",
      "(50, 57, 3)\n",
      "(56, 44, 3)\n",
      "(38, 83, 3)\n",
      "(26, 73, 3)\n",
      "(42, 61, 3)\n",
      "(58, 79, 3)\n",
      "(43, 40, 3)\n",
      "(82, 65, 3)\n",
      "(42, 51, 3)\n",
      "(52, 28, 3)\n",
      "(47, 46, 3)\n",
      "(42, 42, 3)\n",
      "(39, 38, 3)\n",
      "(41, 42, 3)\n",
      "(31, 30, 3)\n",
      "(34, 39, 3)\n",
      "(34, 34, 3)\n",
      "(37, 31, 3)\n",
      "(43, 37, 3)\n",
      "(28, 32, 3)\n",
      "(34, 29, 3)\n",
      "(34, 41, 3)\n",
      "(27, 27, 3)\n",
      "(41, 42, 3)\n",
      "(40, 31, 3)\n",
      "(34, 31, 3)\n",
      "(36, 32, 3)\n",
      "(39, 38, 3)\n",
      "(37, 40, 3)\n",
      "(39, 37, 3)\n",
      "(35, 33, 3)\n",
      "(31, 31, 3)\n",
      "(38, 41, 3)\n",
      "(50, 40, 3)\n",
      "(61, 41, 3)\n"
     ]
    }
   ],
   "source": [
    "test = pd.read_json('socal/socal-fire_00001268_post_disaster.json')['features']['xy']\n",
    "df = pd.json_normalize(test)\n",
    "df\n",
    "for j in range(df.shape[0]):\n",
    "    row = df.iloc[j,:]\n",
    "    uid = df.loc[j,'properties.uid']\n",
    "    # print(row['wkt'])\n",
    "    # two groups enclosed in separate ( and ) bracket\n",
    "    result = re.findall(r\"(\\d+\\.\\d+)\\s(\\d+\\.\\d+)\", row['wkt'])\n",
    "    \n",
    "    ymax = 0\n",
    "    ymin = 0\n",
    "    xmax = 0\n",
    "    xmin = 0\n",
    "    xvals = []\n",
    "    yvals = []\n",
    "    for i in result:\n",
    "        xvals.append(float(i[0]))\n",
    "        yvals.append(float(i[1]))\n",
    "\n",
    "    ymax = max(yvals) + 10\n",
    "    ymin = min(yvals) - 10\n",
    "    xmax = max(xvals) + 10\n",
    "    xmin = min(xvals) - 10\n",
    "    \n",
    "    with rasterio.open('socal-fire_00001268_post_disaster.tif') as src:\n",
    "        aff = src.transform\n",
    "#         meta = src.meta.copy()\n",
    "        rxmin,rymin,rxmax,rymax = (0,0,src.shape[1],src.shape[0])\n",
    "        ymax = min(ymax,rymax)\n",
    "        ymin = max(ymin,rymin)\n",
    "        xmax = min(xmax,rxmax)\n",
    "        xmin = max(xmin,rxmin)\n",
    "        \n",
    "        window = window = ((int(ymin), int(ymax)), (int(xmin), int(xmax)))\n",
    "#         Read croped array\n",
    "        arr1 = src.read(1, window=window)\n",
    "        arr2 = src.read(2, window=window)\n",
    "        arr3 = src.read(3, window=window)\n",
    "\n",
    "    rgb = np.dstack((arr1,arr2,arr3)).astype(np.uint8)\n",
    "    print(rgb.shape)\n",
    "    new_image = Image.fromarray(rgb)\n",
    "    new_image.save('./temp/' + uid + '.png')"
   ]
  },
  {
   "cell_type": "markdown",
   "metadata": {},
   "source": [
    "### Merge MAXAR Islahiye raster files ###"
   ]
  },
  {
   "cell_type": "code",
   "execution_count": 20,
   "metadata": {},
   "outputs": [
    {
     "name": "stdout",
     "output_type": "stream",
     "text": [
      "['1040010082698700-visual (1).tif', '1040010082698700-visual (10).tif', '1040010082698700-visual (11).tif', '1040010082698700-visual (12).tif', '1040010082698700-visual (13).tif', '1040010082698700-visual (14).tif', '1040010082698700-visual (15).tif', '1040010082698700-visual (16).tif', '1040010082698700-visual (17).tif', '1040010082698700-visual (18).tif', '1040010082698700-visual (19).tif', '1040010082698700-visual (2).tif', '1040010082698700-visual (20).tif', '1040010082698700-visual (21).tif', '1040010082698700-visual (22).tif', '1040010082698700-visual (23).tif', '1040010082698700-visual (24).tif', '1040010082698700-visual (25).tif', '1040010082698700-visual (26).tif', '1040010082698700-visual (27).tif', '1040010082698700-visual (28).tif', '1040010082698700-visual (29).tif', '1040010082698700-visual (3).tif', '1040010082698700-visual (30).tif', '1040010082698700-visual (31).tif', '1040010082698700-visual (32).tif', '1040010082698700-visual (33).tif', '1040010082698700-visual (34).tif', '1040010082698700-visual (35).tif', '1040010082698700-visual (36).tif', '1040010082698700-visual (37).tif', '1040010082698700-visual (38).tif', '1040010082698700-visual (39).tif', '1040010082698700-visual (4).tif', '1040010082698700-visual (40).tif', '1040010082698700-visual (41).tif', '1040010082698700-visual (42).tif', '1040010082698700-visual (43).tif', '1040010082698700-visual (44).tif', '1040010082698700-visual (45).tif', '1040010082698700-visual (46).tif', '1040010082698700-visual (47).tif', '1040010082698700-visual (5).tif', '1040010082698700-visual (6).tif', '1040010082698700-visual (7).tif', '1040010082698700-visual (8).tif', '1040010082698700-visual (9).tif', '1040010082698700-visual.tif']\n"
     ]
    }
   ],
   "source": [
    "file_list = os.listdir('./turkey_maxar_0207/')\n",
    "file_list = [file for file in file_list if '1040010082698700' in file and 'aux' not in file]\n",
    "print(file_list)\n",
    "file_list = [('./turkey_maxar_0207/' + file) for file in file_list]"
   ]
  },
  {
   "cell_type": "code",
   "execution_count": 7,
   "metadata": {},
   "outputs": [
    {
     "ename": "RasterioIOError",
     "evalue": "Read or write failed. IReadBlock failed at X offset 21, Y offset 0: TIFFReadEncodedTile() failed.",
     "output_type": "error",
     "traceback": [
      "\u001b[1;31m---------------------------------------------------------------------------\u001b[0m",
      "\u001b[1;31mCPLE_AppDefinedError\u001b[0m                      Traceback (most recent call last)",
      "File \u001b[1;32mrasterio\\_io.pyx:698\u001b[0m, in \u001b[0;36mrasterio._io.DatasetReaderBase._read\u001b[1;34m()\u001b[0m\n",
      "File \u001b[1;32mrasterio\\shim_rasterioex.pxi:235\u001b[0m, in \u001b[0;36mrasterio._shim.io_multi_mask\u001b[1;34m()\u001b[0m\n",
      "File \u001b[1;32mrasterio\\_err.pyx:193\u001b[0m, in \u001b[0;36mrasterio._err.exc_wrap_int\u001b[1;34m()\u001b[0m\n",
      "\u001b[1;31mCPLE_AppDefinedError\u001b[0m: IReadBlock failed at X offset 21, Y offset 0: TIFFReadEncodedTile() failed.",
      "\nDuring handling of the above exception, another exception occurred:\n",
      "\u001b[1;31mRasterioIOError\u001b[0m                           Traceback (most recent call last)",
      "Cell \u001b[1;32mIn[7], line 2\u001b[0m\n\u001b[0;32m      1\u001b[0m file_list \u001b[38;5;241m=\u001b[39m [\u001b[38;5;124m'\u001b[39m\u001b[38;5;124m10300100E19A4400/031133011011.tif\u001b[39m\u001b[38;5;124m'\u001b[39m,\u001b[38;5;124m'\u001b[39m\u001b[38;5;124m10300100E291D100/031133011011.tif\u001b[39m\u001b[38;5;124m'\u001b[39m]\n\u001b[1;32m----> 2\u001b[0m dest, output_transform \u001b[38;5;241m=\u001b[39m \u001b[43mrasterio\u001b[49m\u001b[38;5;241;43m.\u001b[39;49m\u001b[43mmerge\u001b[49m\u001b[38;5;241;43m.\u001b[39;49m\u001b[43mmerge\u001b[49m\u001b[43m(\u001b[49m\u001b[43mfile_list\u001b[49m\u001b[43m)\u001b[49m\n\u001b[0;32m      3\u001b[0m \u001b[38;5;28;01mwith\u001b[39;00m rasterio\u001b[38;5;241m.\u001b[39mopen(\u001b[38;5;124m'\u001b[39m\u001b[38;5;124m10300100E19A4400/031133011011.tif\u001b[39m\u001b[38;5;124m'\u001b[39m) \u001b[38;5;28;01mas\u001b[39;00m src:\n\u001b[0;32m      4\u001b[0m     out_meta \u001b[38;5;241m=\u001b[39m src\u001b[38;5;241m.\u001b[39mmeta\u001b[38;5;241m.\u001b[39mcopy()    \n",
      "File \u001b[1;32mD:\\Anaconda3\\envs\\xbd\\lib\\site-packages\\rasterio\\merge.py:327\u001b[0m, in \u001b[0;36mmerge\u001b[1;34m(datasets, bounds, res, nodata, dtype, precision, indexes, output_count, resampling, method, target_aligned_pixels, dst_path, dst_kwds)\u001b[0m\n\u001b[0;32m    322\u001b[0m     temp_height, temp_width \u001b[38;5;241m=\u001b[39m (\n\u001b[0;32m    323\u001b[0m         dst_window_rnd_off\u001b[38;5;241m.\u001b[39mheight,\n\u001b[0;32m    324\u001b[0m         dst_window_rnd_off\u001b[38;5;241m.\u001b[39mwidth,\n\u001b[0;32m    325\u001b[0m     )\n\u001b[0;32m    326\u001b[0m     temp_shape \u001b[38;5;241m=\u001b[39m (src_count, temp_height, temp_width)\n\u001b[1;32m--> 327\u001b[0m     temp_src \u001b[38;5;241m=\u001b[39m \u001b[43msrc\u001b[49m\u001b[38;5;241;43m.\u001b[39;49m\u001b[43mread\u001b[49m\u001b[43m(\u001b[49m\n\u001b[0;32m    328\u001b[0m \u001b[43m        \u001b[49m\u001b[43mout_shape\u001b[49m\u001b[38;5;241;43m=\u001b[39;49m\u001b[43mtemp_shape\u001b[49m\u001b[43m,\u001b[49m\n\u001b[0;32m    329\u001b[0m \u001b[43m        \u001b[49m\u001b[43mwindow\u001b[49m\u001b[38;5;241;43m=\u001b[39;49m\u001b[43msrc_window_rnd_shp\u001b[49m\u001b[43m,\u001b[49m\n\u001b[0;32m    330\u001b[0m \u001b[43m        \u001b[49m\u001b[43mboundless\u001b[49m\u001b[38;5;241;43m=\u001b[39;49m\u001b[38;5;28;43;01mFalse\u001b[39;49;00m\u001b[43m,\u001b[49m\n\u001b[0;32m    331\u001b[0m \u001b[43m        \u001b[49m\u001b[43mmasked\u001b[49m\u001b[38;5;241;43m=\u001b[39;49m\u001b[38;5;28;43;01mTrue\u001b[39;49;00m\u001b[43m,\u001b[49m\n\u001b[0;32m    332\u001b[0m \u001b[43m        \u001b[49m\u001b[43mindexes\u001b[49m\u001b[38;5;241;43m=\u001b[39;49m\u001b[43mindexes\u001b[49m\u001b[43m,\u001b[49m\n\u001b[0;32m    333\u001b[0m \u001b[43m        \u001b[49m\u001b[43mresampling\u001b[49m\u001b[38;5;241;43m=\u001b[39;49m\u001b[43mresampling\u001b[49m\u001b[43m,\u001b[49m\n\u001b[0;32m    334\u001b[0m \u001b[43m    \u001b[49m\u001b[43m)\u001b[49m\n\u001b[0;32m    336\u001b[0m \u001b[38;5;66;03m# 5. Copy elements of temp into dest\u001b[39;00m\n\u001b[0;32m    337\u001b[0m roff, coff \u001b[38;5;241m=\u001b[39m (\n\u001b[0;32m    338\u001b[0m     \u001b[38;5;28mmax\u001b[39m(\u001b[38;5;241m0\u001b[39m, dst_window_rnd_off\u001b[38;5;241m.\u001b[39mrow_off),\n\u001b[0;32m    339\u001b[0m     \u001b[38;5;28mmax\u001b[39m(\u001b[38;5;241m0\u001b[39m, dst_window_rnd_off\u001b[38;5;241m.\u001b[39mcol_off),\n\u001b[0;32m    340\u001b[0m )\n",
      "File \u001b[1;32mrasterio\\_io.pyx:374\u001b[0m, in \u001b[0;36mrasterio._io.DatasetReaderBase.read\u001b[1;34m()\u001b[0m\n",
      "File \u001b[1;32mrasterio\\_io.pyx:704\u001b[0m, in \u001b[0;36mrasterio._io.DatasetReaderBase._read\u001b[1;34m()\u001b[0m\n",
      "\u001b[1;31mRasterioIOError\u001b[0m: Read or write failed. IReadBlock failed at X offset 21, Y offset 0: TIFFReadEncodedTile() failed."
     ]
    }
   ],
   "source": [
    "file_list = ['10300100E19A4400/031133011011.tif','10300100E291D100/031133011011.tif']\n",
    "dest, output_transform = rasterio.merge.merge(file_list)\n",
    "with rasterio.open('10300100E19A4400/031133011011.tif') as src:\n",
    "    out_meta = src.meta.copy()    \n",
    "out_meta.update({\"driver\": \"GTiff\",\n",
    "                 \"height\": dest.shape[1],\n",
    "                 \"width\": dest.shape[2],\n",
    "                 \"transform\": output_transform})\n",
    "with rasterio.open(\"combined_1.tif\", \"w\", **out_meta) as dest1:\n",
    "    dest1.write(dest)"
   ]
  },
  {
   "cell_type": "code",
   "execution_count": 35,
   "metadata": {},
   "outputs": [
    {
     "data": {
      "text/plain": [
       "0"
      ]
     },
     "execution_count": 35,
     "metadata": {},
     "output_type": "execute_result"
    }
   ],
   "source": [
    "import subprocess\n",
    "cmd = \"gdal_merge.py -o turkey_maxar_0207_combined.tif\"\n",
    "subprocess.call((cmd.split() + file_list), shell=True)"
   ]
  },
  {
   "cell_type": "code",
   "execution_count": 21,
   "metadata": {},
   "outputs": [],
   "source": [
    "vrt = None\n",
    "vrt = gdal.BuildVRT('merged.vrt',file_list)\n",
    "vrt_1 = gdal.Translate('merged_1.vrt',vrt)"
   ]
  },
  {
   "cell_type": "code",
   "execution_count": 22,
   "metadata": {},
   "outputs": [],
   "source": [
    "import glob\n",
    "\n",
    "files = glob.glob('islahiye_0207_building_crops/undamaged/*')\n",
    "for f in files:\n",
    "    os.remove(f)\n",
    "files = glob.glob('islahiye_0207_building_crops/damaged/*')\n",
    "for f in files:\n",
    "    os.remove(f)"
   ]
  },
  {
   "cell_type": "code",
   "execution_count": 23,
   "metadata": {},
   "outputs": [],
   "source": [
    "counter = 0\n",
    "with rasterio.open('merged.vrt') as src:\n",
    "    aff = src.transform\n",
    "    # meta = src.meta.copy()\n",
    "    rxmin, rymin, rxmax, rymax = src.bounds\n",
    "\n",
    "    for bldg in building_list:\n",
    "        coords = bldg['geometry']['coordinates'][0][0]\n",
    "#         damage_type = bldg['properties']['damaged']\n",
    "        damage_type = bldg['properties']['dmg'] > 2\n",
    "  \n",
    "        if len(coords) == 0:\n",
    "            continue\n",
    "\n",
    "        xvals = []\n",
    "        yvals = []\n",
    "        for coord in coords:\n",
    "            xvals.append(coord[0])\n",
    "            yvals.append(coord[1])\n",
    "\n",
    "        ymax = max(yvals) + 5\n",
    "        ymin = min(yvals) - 5\n",
    "        xmax = max(xvals) + 5\n",
    "        xmin = min(xvals) - 5\n",
    "        \n",
    "    #     # discard this building if too small for human to make reliable prediction\n",
    "    #     if ((ymax - ymin) < 40 or (xmax - xmin) < 40):\n",
    "    #         continue\n",
    "        ymax = min(ymax,rymax)\n",
    "        ymin = max(ymin,rymin)\n",
    "        xmax = min(xmax,rxmax)\n",
    "        xmin = max(xmin,rxmin)\n",
    "        window = from_bounds(xmin, ymin, xmax, ymax, aff)\n",
    "        \n",
    "#         try:\n",
    "#             window = from_bounds(xmin, ymin, xmax, ymax, aff)\n",
    "#         except:\n",
    "#             continue\n",
    "\n",
    "        arr1 = src.read(1, window=window)\n",
    "        arr2 = src.read(2, window=window)\n",
    "        arr3 = src.read(3, window=window)\n",
    "        if arr1.shape[0] < 30 or arr1.shape[1] < 30:\n",
    "            continue\n",
    "        # output image of cropped building\n",
    "        rgb = np.dstack((arr1,arr2,arr3)).astype(np.uint8)\n",
    "        stddev = np.std(rgb)\n",
    "        # remove images of clouds and dark shadows\n",
    "        if stddev < 30:\n",
    "            continue\n",
    "        new_image = Image.fromarray(rgb)\n",
    "\n",
    "        if damage_type == 0:\n",
    "            damage_status = 'undamaged'\n",
    "        else:\n",
    "            damage_status = 'damaged'\n",
    "\n",
    "        counter += 1\n",
    "        save_path = './islahiye_0207_building_crops/' + damage_status + '/'\n",
    "        save_name = 'islahiye' + '-' + str(counter) + '-' + damage_status + '.png'\n",
    "        new_image.save(save_path + save_name)\n",
    "vrt = None"
   ]
  },
  {
   "cell_type": "code",
   "execution_count": 149,
   "metadata": {},
   "outputs": [
    {
     "data": {
      "text/plain": [
       "73.63139168293044"
      ]
     },
     "execution_count": 149,
     "metadata": {},
     "output_type": "execute_result"
    }
   ],
   "source": [
    "testpic = Image.open('islahiye_0207_building_crops/undamaged/islahiye-1049-undamaged.png')\n",
    "testpicarray = np.array(testpic)\n",
    "np.std(testpicarray)"
   ]
  },
  {
   "cell_type": "markdown",
   "metadata": {},
   "source": [
    "### Merge MAXAR Marash raster files ###"
   ]
  },
  {
   "cell_type": "code",
   "execution_count": 6,
   "metadata": {},
   "outputs": [
    {
     "name": "stdout",
     "output_type": "stream",
     "text": [
      "['./10300100E19A4400/031131233221.tif', './10300100E19A4400/031131233222.tif', './10300100E19A4400/031131233223.tif', './10300100E19A4400/031131233230.tif', './10300100E19A4400/031131233231.tif', './10300100E19A4400/031131233232.tif', './10300100E19A4400/031131233233.tif', './10300100E19A4400/031133011000.tif', './10300100E19A4400/031133011001.tif', './10300100E19A4400/031133011010.tif', './10300100E19A4400/031133011011.tif', './10300100E291D100/031131233231.tif', './10300100E291D100/031131233233.tif', './10300100E291D100/031131233320.tif', './10300100E291D100/031131233321.tif', './10300100E291D100/031131233322.tif', './10300100E291D100/031131233323.tif', './10300100E291D100/031133011011.tif', './10300100E291D100/031133011100.tif', './10300100E291D100/031133011101.tif']\n"
     ]
    }
   ],
   "source": [
    "file_list = os.listdir('./10300100E19A4400/')\n",
    "file_list = [file for file in file_list if 'aux' not in file]\n",
    "file_list = [('./10300100E19A4400/' + file) for file in file_list]\n",
    "\n",
    "file_list_2 = os.listdir('./10300100E291D100/')\n",
    "file_list_2 = [file for file in file_list_2 if 'aux' not in file]\n",
    "file_list_2 = [('./10300100E291D100/' + file) for file in file_list_2]\n",
    "\n",
    "file_list = file_list + file_list_2\n",
    "print(file_list)"
   ]
  },
  {
   "cell_type": "code",
   "execution_count": 7,
   "metadata": {},
   "outputs": [],
   "source": [
    "vrt = None\n",
    "vrt = gdal.BuildVRT('merged.vrt',file_list,srcNodata=0)\n",
    "# vrt_1 = gdal.Translate('merged_1.vrt',vrt,noData=0)"
   ]
  },
  {
   "cell_type": "code",
   "execution_count": 8,
   "metadata": {},
   "outputs": [],
   "source": [
    "import glob\n",
    "\n",
    "files = glob.glob('marash_building_crops/undamaged/*')\n",
    "for f in files:\n",
    "    os.remove(f)\n",
    "files = glob.glob('marash_building_crops/damaged/*')\n",
    "for f in files:\n",
    "    os.remove(f)"
   ]
  },
  {
   "cell_type": "code",
   "execution_count": 9,
   "metadata": {},
   "outputs": [],
   "source": [
    "counter = 0\n",
    "with rasterio.open('merged.vrt') as src:\n",
    "    aff = src.transform\n",
    "    # meta = src.meta.copy()\n",
    "    rxmin, rymin, rxmax, rymax = src.bounds\n",
    "\n",
    "    for bldg in building_list:\n",
    "        coords = bldg['geometry']['coordinates'][0]\n",
    "        damage_type = bldg['properties']['damaged']\n",
    "#         damage_type = bldg['properties']['dmg'] > 2\n",
    "  \n",
    "        if len(coords) == 0:\n",
    "            continue\n",
    "\n",
    "        xvals = []\n",
    "        yvals = []\n",
    "        for coord in coords:\n",
    "            xvals.append(coord[0])\n",
    "            yvals.append(coord[1])\n",
    "\n",
    "        ymax = max(yvals) + 5\n",
    "        ymin = min(yvals) - 5\n",
    "        xmax = max(xvals) + 5\n",
    "        xmin = min(xvals) - 5\n",
    "        \n",
    "    #     # discard this building if too small for human to make reliable prediction\n",
    "    #     if ((ymax - ymin) < 40 or (xmax - xmin) < 40):\n",
    "    #         continue\n",
    "        ymax = min(ymax,rymax)\n",
    "        ymin = max(ymin,rymin)\n",
    "        xmax = min(xmax,rxmax)\n",
    "        xmin = max(xmin,rxmin)\n",
    "        window = from_bounds(xmin, ymin, xmax, ymax, aff)\n",
    "        \n",
    "#         try:\n",
    "#             window = from_bounds(xmin, ymin, xmax, ymax, aff)\n",
    "#         except:\n",
    "#             continue\n",
    "\n",
    "        arr1 = src.read(1, window=window)\n",
    "        arr2 = src.read(2, window=window)\n",
    "        arr3 = src.read(3, window=window)\n",
    "        if arr1.shape[0] < 30 or arr1.shape[1] < 30:\n",
    "            continue\n",
    "        # output image of cropped building\n",
    "        rgb = np.dstack((arr1,arr2,arr3)).astype(np.uint8)\n",
    "        stddev = np.std(rgb)\n",
    "#         # remove images of clouds and dark shadows\n",
    "#         if stddev < 30:\n",
    "#             continue\n",
    "        new_image = Image.fromarray(rgb)\n",
    "\n",
    "        if damage_type == 0:\n",
    "            damage_status = 'undamaged'\n",
    "        else:\n",
    "            damage_status = 'damaged'\n",
    "\n",
    "        counter += 1\n",
    "        save_path = './marash_building_crops/' + damage_status + '/'\n",
    "        save_name = 'marash' + '-' + str(counter) + '-' + damage_status + '.png'\n",
    "        new_image.save(save_path + save_name)\n",
    "vrt = None"
   ]
  },
  {
   "cell_type": "code",
   "execution_count": null,
   "metadata": {},
   "outputs": [],
   "source": []
  }
 ],
 "metadata": {
  "kernelspec": {
   "display_name": "Python [conda env:xbd]",
   "language": "python",
   "name": "conda-env-xbd-py"
  },
  "language_info": {
   "codemirror_mode": {
    "name": "ipython",
    "version": 3
   },
   "file_extension": ".py",
   "mimetype": "text/x-python",
   "name": "python",
   "nbconvert_exporter": "python",
   "pygments_lexer": "ipython3",
   "version": "3.9.16"
  }
 },
 "nbformat": 4,
 "nbformat_minor": 4
}
