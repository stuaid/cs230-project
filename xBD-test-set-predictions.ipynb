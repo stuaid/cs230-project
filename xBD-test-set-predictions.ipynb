{
 "cells": [
  {
   "cell_type": "markdown",
   "metadata": {},
   "source": [
    "### Conventional Transfer Learning and Simulation Testing ###\n",
    "\n",
    "This notebook applies conventional transfer learning and simulation testing for the xBD holdout dataset."
   ]
  },
  {
   "cell_type": "code",
   "execution_count": 1,
   "metadata": {},
   "outputs": [],
   "source": [
    "import numpy as np\n",
    "import os\n",
    "import PIL\n",
    "import PIL.Image\n",
    "import tensorflow as tf\n",
    "import matplotlib.pyplot as plt\n",
    "import keras\n",
    "import h5py\n",
    "\n",
    "import shutil\n",
    "from keras.models import load_model\n",
    "from keras import layers\n",
    "from keras import models\n",
    "from keras import optimizers"
   ]
  },
  {
   "cell_type": "code",
   "execution_count": 2,
   "metadata": {},
   "outputs": [
    {
     "name": "stdout",
     "output_type": "stream",
     "text": [
      "WARNING:tensorflow:Using a while_loop for converting RngReadAndSkip cause there is no registered converter for this op.\n",
      "WARNING:tensorflow:Using a while_loop for converting Bitcast cause there is no registered converter for this op.\n",
      "WARNING:tensorflow:Using a while_loop for converting Bitcast cause there is no registered converter for this op.\n",
      "WARNING:tensorflow:Using a while_loop for converting StatelessRandomUniformV2 cause there is no registered converter for this op.\n",
      "WARNING:tensorflow:Using a while_loop for converting ImageProjectiveTransformV3 cause there is no registered converter for this op.\n",
      "WARNING:tensorflow:Using a while_loop for converting RngReadAndSkip cause there is no registered converter for this op.\n",
      "WARNING:tensorflow:Using a while_loop for converting Bitcast cause there is no registered converter for this op.\n",
      "WARNING:tensorflow:Using a while_loop for converting Bitcast cause there is no registered converter for this op.\n",
      "WARNING:tensorflow:Using a while_loop for converting StatelessRandomUniformV2 cause there is no registered converter for this op.\n",
      "WARNING:tensorflow:Using a while_loop for converting ImageProjectiveTransformV3 cause there is no registered converter for this op.\n",
      "WARNING:tensorflow:Using a while_loop for converting RngReadAndSkip cause there is no registered converter for this op.\n",
      "WARNING:tensorflow:Using a while_loop for converting Bitcast cause there is no registered converter for this op.\n",
      "WARNING:tensorflow:Using a while_loop for converting Bitcast cause there is no registered converter for this op.\n",
      "WARNING:tensorflow:Using a while_loop for converting StatelessRandomUniformV2 cause there is no registered converter for this op.\n",
      "WARNING:tensorflow:Using a while_loop for converting RngReadAndSkip cause there is no registered converter for this op.\n",
      "WARNING:tensorflow:Using a while_loop for converting Bitcast cause there is no registered converter for this op.\n",
      "WARNING:tensorflow:Using a while_loop for converting Bitcast cause there is no registered converter for this op.\n",
      "WARNING:tensorflow:Using a while_loop for converting StatelessRandomUniformV2 cause there is no registered converter for this op.\n",
      "WARNING:tensorflow:Using a while_loop for converting RngReadAndSkip cause there is no registered converter for this op.\n",
      "WARNING:tensorflow:Using a while_loop for converting Bitcast cause there is no registered converter for this op.\n",
      "WARNING:tensorflow:Using a while_loop for converting Bitcast cause there is no registered converter for this op.\n",
      "WARNING:tensorflow:Using a while_loop for converting StatelessRandomUniformV2 cause there is no registered converter for this op.\n",
      "WARNING:tensorflow:Using a while_loop for converting ImageProjectiveTransformV3 cause there is no registered converter for this op.\n",
      "WARNING:tensorflow:Using a while_loop for converting RngReadAndSkip cause there is no registered converter for this op.\n",
      "WARNING:tensorflow:Using a while_loop for converting Bitcast cause there is no registered converter for this op.\n",
      "WARNING:tensorflow:Using a while_loop for converting Bitcast cause there is no registered converter for this op.\n",
      "WARNING:tensorflow:Using a while_loop for converting StatelessRandomUniformV2 cause there is no registered converter for this op.\n",
      "WARNING:tensorflow:Using a while_loop for converting ImageProjectiveTransformV3 cause there is no registered converter for this op.\n",
      "WARNING:tensorflow:Using a while_loop for converting RngReadAndSkip cause there is no registered converter for this op.\n",
      "WARNING:tensorflow:Using a while_loop for converting Bitcast cause there is no registered converter for this op.\n",
      "WARNING:tensorflow:Using a while_loop for converting Bitcast cause there is no registered converter for this op.\n",
      "WARNING:tensorflow:Using a while_loop for converting StatelessRandomUniformV2 cause there is no registered converter for this op.\n",
      "WARNING:tensorflow:Using a while_loop for converting RngReadAndSkip cause there is no registered converter for this op.\n",
      "WARNING:tensorflow:Using a while_loop for converting Bitcast cause there is no registered converter for this op.\n",
      "WARNING:tensorflow:Using a while_loop for converting Bitcast cause there is no registered converter for this op.\n",
      "WARNING:tensorflow:Using a while_loop for converting StatelessRandomUniformV2 cause there is no registered converter for this op.\n",
      "Model: \"sequential_1\"\n",
      "_________________________________________________________________\n",
      " Layer (type)                Output Shape              Param #   \n",
      "=================================================================\n",
      " rescaling (Rescaling)       (None, 100, 100, 3)       0         \n",
      "                                                                 \n",
      " sequential (Sequential)     (None, 100, 100, 3)       0         \n",
      "                                                                 \n",
      " conv2d (Conv2D)             (None, 98, 98, 32)        896       \n",
      "                                                                 \n",
      " max_pooling2d (MaxPooling2D  (None, 49, 49, 32)       0         \n",
      " )                                                               \n",
      "                                                                 \n",
      " conv2d_1 (Conv2D)           (None, 47, 47, 64)        18496     \n",
      "                                                                 \n",
      " max_pooling2d_1 (MaxPooling  (None, 23, 23, 64)       0         \n",
      " 2D)                                                             \n",
      "                                                                 \n",
      " conv2d_2 (Conv2D)           (None, 21, 21, 128)       73856     \n",
      "                                                                 \n",
      " max_pooling2d_2 (MaxPooling  (None, 7, 7, 128)        0         \n",
      " 2D)                                                             \n",
      "                                                                 \n",
      " flatten (Flatten)           (None, 6272)              0         \n",
      "                                                                 \n",
      " dropout (Dropout)           (None, 6272)              0         \n",
      "                                                                 \n",
      " dense (Dense)               (None, 512)               3211776   \n",
      "                                                                 \n",
      " dense_1 (Dense)             (None, 1)                 513       \n",
      "                                                                 \n",
      "=================================================================\n",
      "Total params: 3,305,537\n",
      "Trainable params: 3,305,537\n",
      "Non-trainable params: 0\n",
      "_________________________________________________________________\n"
     ]
    }
   ],
   "source": [
    "model1 = load_model('cc_model_with_dropout_4.h5')\n",
    "model1.summary()"
   ]
  },
  {
   "cell_type": "code",
   "execution_count": 3,
   "metadata": {},
   "outputs": [
    {
     "name": "stdout",
     "output_type": "stream",
     "text": [
      "74/74 [==============================] - 4s 8ms/step - loss: 0.1553 - precision: 0.7111 - recall: 0.5854 - accuracy: 0.9545\n"
     ]
    }
   ],
   "source": [
    "# test_ds = tf.data.Dataset.load('turkey/test')\n",
    "test_ds = tf.data.Dataset.load('xBD_Dataset/xBD_test_2')\n",
    "\n",
    "history = model1.evaluate(test_ds)"
   ]
  },
  {
   "cell_type": "code",
   "execution_count": 5,
   "metadata": {},
   "outputs": [
    {
     "name": "stdout",
     "output_type": "stream",
     "text": [
      "[4.472379207611084, 0.14612868428230286, 0.3529411852359772, 0.7033833265304565]\n"
     ]
    }
   ],
   "source": [
    "print(history)"
   ]
  },
  {
   "cell_type": "code",
   "execution_count": 13,
   "metadata": {},
   "outputs": [
    {
     "name": "stdout",
     "output_type": "stream",
     "text": [
      "326/326 [==============================] - 2s 6ms/step\n"
     ]
    }
   ],
   "source": [
    "test_predictions = model1.predict(test_ds, batch_size = 32)"
   ]
  },
  {
   "cell_type": "code",
   "execution_count": 42,
   "metadata": {},
   "outputs": [
    {
     "name": "stdout",
     "output_type": "stream",
     "text": [
      "Model: \"model_8\"\n",
      "_________________________________________________________________\n",
      " Layer (type)                Output Shape              Param #   \n",
      "=================================================================\n",
      " rescaling_input (InputLayer  [(None, 100, 100, 3)]    0         \n",
      " )                                                               \n",
      "                                                                 \n",
      " rescaling (Rescaling)       (None, 100, 100, 3)       0         \n",
      "                                                                 \n",
      " conv2d (Conv2D)             (None, 98, 98, 32)        896       \n",
      "                                                                 \n",
      " max_pooling2d (MaxPooling2D  (None, 49, 49, 32)       0         \n",
      " )                                                               \n",
      "                                                                 \n",
      " conv2d_1 (Conv2D)           (None, 47, 47, 64)        18496     \n",
      "                                                                 \n",
      " max_pooling2d_1 (MaxPooling  (None, 23, 23, 64)       0         \n",
      " 2D)                                                             \n",
      "                                                                 \n",
      " conv2d_2 (Conv2D)           (None, 21, 21, 128)       73856     \n",
      "                                                                 \n",
      " max_pooling2d_2 (MaxPooling  (None, 7, 7, 128)        0         \n",
      " 2D)                                                             \n",
      "                                                                 \n",
      " flatten (Flatten)           (None, 6272)              0         \n",
      "                                                                 \n",
      " dropout (Dropout)           (None, 6272)              0         \n",
      "                                                                 \n",
      " dense (Dense)               (None, 512)               3211776   \n",
      "                                                                 \n",
      " dense_1 (Dense)             (None, 1)                 513       \n",
      "                                                                 \n",
      "=================================================================\n",
      "Total params: 3,305,537\n",
      "Trainable params: 3,305,537\n",
      "Non-trainable params: 0\n",
      "_________________________________________________________________\n"
     ]
    },
    {
     "ename": "AttributeError",
     "evalue": "module 'keras.api._v2.keras.metrics' has no attribute 'F1Score'",
     "output_type": "error",
     "traceback": [
      "\u001b[1;31m---------------------------------------------------------------------------\u001b[0m",
      "\u001b[1;31mAttributeError\u001b[0m                            Traceback (most recent call last)",
      "Cell \u001b[1;32mIn[42], line 22\u001b[0m\n\u001b[0;32m     17\u001b[0m new_model \u001b[38;5;241m=\u001b[39m tf\u001b[38;5;241m.\u001b[39mkeras\u001b[38;5;241m.\u001b[39mModel(inputs\u001b[38;5;241m=\u001b[39mlayers[\u001b[38;5;241m0\u001b[39m]\u001b[38;5;241m.\u001b[39minput, outputs\u001b[38;5;241m=\u001b[39mx)\n\u001b[0;32m     18\u001b[0m new_model\u001b[38;5;241m.\u001b[39msummary()\n\u001b[0;32m     20\u001b[0m new_model\u001b[38;5;241m.\u001b[39mcompile(loss \u001b[38;5;241m=\u001b[39m \u001b[38;5;124m'\u001b[39m\u001b[38;5;124mbinary_crossentropy\u001b[39m\u001b[38;5;124m'\u001b[39m,\n\u001b[0;32m     21\u001b[0m                 optimizer \u001b[38;5;241m=\u001b[39m tf\u001b[38;5;241m.\u001b[39mkeras\u001b[38;5;241m.\u001b[39moptimizers\u001b[38;5;241m.\u001b[39mAdam(learning_rate\u001b[38;5;241m=\u001b[39m\u001b[38;5;241m0.001\u001b[39m\u001b[38;5;241m*\u001b[39m\u001b[38;5;241m0.1\u001b[39m),\n\u001b[1;32m---> 22\u001b[0m                  metrics \u001b[38;5;241m=\u001b[39m [tf\u001b[38;5;241m.\u001b[39mkeras\u001b[38;5;241m.\u001b[39mmetrics\u001b[38;5;241m.\u001b[39mPrecision(),tf\u001b[38;5;241m.\u001b[39mkeras\u001b[38;5;241m.\u001b[39mmetrics\u001b[38;5;241m.\u001b[39mRecall(),\u001b[43mtf\u001b[49m\u001b[38;5;241;43m.\u001b[39;49m\u001b[43mkeras\u001b[49m\u001b[38;5;241;43m.\u001b[39;49m\u001b[43mmetrics\u001b[49m\u001b[38;5;241;43m.\u001b[39;49m\u001b[43mF1Score\u001b[49m(),\u001b[38;5;124m'\u001b[39m\u001b[38;5;124maccuracy\u001b[39m\u001b[38;5;124m'\u001b[39m])\n",
      "\u001b[1;31mAttributeError\u001b[0m: module 'keras.api._v2.keras.metrics' has no attribute 'F1Score'"
     ]
    }
   ],
   "source": [
    "model1 = load_model('cc_model_with_dropout_4.h5')\n",
    "# Disassemble layers\n",
    "layers = [l for l in model1.layers]\n",
    "\n",
    "\n",
    "# Stack everything back\n",
    "\n",
    "x = layers[0].output\n",
    "for i in range(2, len(layers)):\n",
    "    if i < len(layers)-12:\n",
    "        layers[i].trainable = False\n",
    "    else:\n",
    "        layers[i].trainable = True\n",
    "    x = layers[i](x)\n",
    "\n",
    "# Final touch\n",
    "new_model = tf.keras.Model(inputs=layers[0].input, outputs=x)\n",
    "new_model.summary()\n",
    "    \n",
    "new_model.compile(loss = 'binary_crossentropy',\n",
    "                optimizer = tf.keras.optimizers.Adam(learning_rate=0.001*0.1),\n",
    "                 metrics = [tf.keras.metrics.Precision(),tf.keras.metrics.Recall(),tf.keras.metrics.F1Score(),'accuracy'])\n",
    "\n"
   ]
  },
  {
   "cell_type": "code",
   "execution_count": 38,
   "metadata": {},
   "outputs": [],
   "source": [
    "# train_ds = tf.data.Dataset.load('turkey/train')\n",
    "# val_ds = tf.data.Dataset.load('turkey/val')\n",
    "train_ds = tf.data.Dataset.load('xBD_Dataset/xBD_train_2')\n",
    "val_ds = tf.data.Dataset.load('xBD_Dataset/xBD_val_2')\n",
    "test_ds = tf.data.Dataset.load('xBD_Dataset/xBD_test_2')"
   ]
  },
  {
   "cell_type": "code",
   "execution_count": 39,
   "metadata": {},
   "outputs": [],
   "source": [
    "# len(list(test_ds[0]))"
   ]
  },
  {
   "cell_type": "code",
   "execution_count": 40,
   "metadata": {},
   "outputs": [
    {
     "name": "stdout",
     "output_type": "stream",
     "text": [
      "Epoch 1/50\n",
      "6/6 [==============================] - 1s 59ms/step - loss: 0.4164 - precision_7: 1.0000 - recall_7: 0.7000 - accuracy: 0.8537 - val_loss: 0.4423 - val_precision_7: 0.9322 - val_recall_7: 0.6548 - val_accuracy: 0.7988\n",
      "Epoch 2/50\n",
      "6/6 [==============================] - 0s 19ms/step - loss: 0.3987 - precision_7: 0.9821 - recall_7: 0.6875 - accuracy: 0.8415 - val_loss: 0.4192 - val_precision_7: 0.9344 - val_recall_7: 0.6786 - val_accuracy: 0.8110\n",
      "Epoch 3/50\n",
      "6/6 [==============================] - 0s 20ms/step - loss: 0.3870 - precision_7: 0.9500 - recall_7: 0.7125 - accuracy: 0.8415 - val_loss: 0.4058 - val_precision_7: 0.9375 - val_recall_7: 0.7143 - val_accuracy: 0.8293\n",
      "Epoch 4/50\n",
      "6/6 [==============================] - 0s 22ms/step - loss: 0.3592 - precision_7: 1.0000 - recall_7: 0.7375 - accuracy: 0.8720 - val_loss: 0.3940 - val_precision_7: 0.9254 - val_recall_7: 0.7381 - val_accuracy: 0.8354\n",
      "Epoch 5/50\n",
      "6/6 [==============================] - 0s 20ms/step - loss: 0.3528 - precision_7: 0.9839 - recall_7: 0.7625 - accuracy: 0.8780 - val_loss: 0.3851 - val_precision_7: 0.9265 - val_recall_7: 0.7500 - val_accuracy: 0.8415\n",
      "Epoch 6/50\n",
      "6/6 [==============================] - 0s 20ms/step - loss: 0.3290 - precision_7: 0.9677 - recall_7: 0.7500 - accuracy: 0.8659 - val_loss: 0.3780 - val_precision_7: 0.9265 - val_recall_7: 0.7500 - val_accuracy: 0.8415\n",
      "Epoch 7/50\n",
      "6/6 [==============================] - 0s 20ms/step - loss: 0.3619 - precision_7: 0.9559 - recall_7: 0.8125 - accuracy: 0.8902 - val_loss: 0.3718 - val_precision_7: 0.9275 - val_recall_7: 0.7619 - val_accuracy: 0.8476\n",
      "Epoch 8/50\n",
      "6/6 [==============================] - 0s 20ms/step - loss: 0.3296 - precision_7: 0.9545 - recall_7: 0.7875 - accuracy: 0.8780 - val_loss: 0.3665 - val_precision_7: 0.9167 - val_recall_7: 0.7857 - val_accuracy: 0.8537\n",
      "Epoch 9/50\n",
      "6/6 [==============================] - 0s 20ms/step - loss: 0.3354 - precision_7: 0.9538 - recall_7: 0.7750 - accuracy: 0.8720 - val_loss: 0.3636 - val_precision_7: 0.9178 - val_recall_7: 0.7976 - val_accuracy: 0.8598\n",
      "Epoch 10/50\n",
      "6/6 [==============================] - 0s 20ms/step - loss: 0.3546 - precision_7: 0.9091 - recall_7: 0.7500 - accuracy: 0.8415 - val_loss: 0.3610 - val_precision_7: 0.9189 - val_recall_7: 0.8095 - val_accuracy: 0.8659\n",
      "Epoch 11/50\n",
      "6/6 [==============================] - 0s 19ms/step - loss: 0.3101 - precision_7: 0.9697 - recall_7: 0.8000 - accuracy: 0.8902 - val_loss: 0.3583 - val_precision_7: 0.9189 - val_recall_7: 0.8095 - val_accuracy: 0.8659\n",
      "Epoch 12/50\n",
      "6/6 [==============================] - 0s 20ms/step - loss: 0.2914 - precision_7: 0.9846 - recall_7: 0.8000 - accuracy: 0.8963 - val_loss: 0.3560 - val_precision_7: 0.9189 - val_recall_7: 0.8095 - val_accuracy: 0.8659\n",
      "Epoch 13/50\n",
      "6/6 [==============================] - 0s 20ms/step - loss: 0.3200 - precision_7: 0.9683 - recall_7: 0.7625 - accuracy: 0.8720 - val_loss: 0.3532 - val_precision_7: 0.9200 - val_recall_7: 0.8214 - val_accuracy: 0.8720\n",
      "Epoch 14/50\n",
      "6/6 [==============================] - 0s 20ms/step - loss: 0.3233 - precision_7: 0.9403 - recall_7: 0.7875 - accuracy: 0.8720 - val_loss: 0.3513 - val_precision_7: 0.9324 - val_recall_7: 0.8214 - val_accuracy: 0.8780\n",
      "Epoch 15/50\n",
      "6/6 [==============================] - 0s 19ms/step - loss: 0.3011 - precision_7: 0.9275 - recall_7: 0.8000 - accuracy: 0.8720 - val_loss: 0.3492 - val_precision_7: 0.9324 - val_recall_7: 0.8214 - val_accuracy: 0.8780\n",
      "Epoch 16/50\n",
      "6/6 [==============================] - 0s 19ms/step - loss: 0.3050 - precision_7: 0.9545 - recall_7: 0.7875 - accuracy: 0.8780 - val_loss: 0.3473 - val_precision_7: 0.9324 - val_recall_7: 0.8214 - val_accuracy: 0.8780\n",
      "Epoch 17/50\n",
      "6/6 [==============================] - 0s 19ms/step - loss: 0.3057 - precision_7: 0.9552 - recall_7: 0.8000 - accuracy: 0.8841 - val_loss: 0.3465 - val_precision_7: 0.9306 - val_recall_7: 0.7976 - val_accuracy: 0.8659\n",
      "Epoch 18/50\n",
      "6/6 [==============================] - 0s 20ms/step - loss: 0.2980 - precision_7: 0.9710 - recall_7: 0.8375 - accuracy: 0.9085 - val_loss: 0.3465 - val_precision_7: 0.9306 - val_recall_7: 0.7976 - val_accuracy: 0.8659\n",
      "Epoch 19/50\n",
      "6/6 [==============================] - 0s 20ms/step - loss: 0.2926 - precision_7: 0.9429 - recall_7: 0.8250 - accuracy: 0.8902 - val_loss: 0.3458 - val_precision_7: 0.9306 - val_recall_7: 0.7976 - val_accuracy: 0.8659\n",
      "Epoch 20/50\n",
      "6/6 [==============================] - 0s 20ms/step - loss: 0.3023 - precision_7: 0.9412 - recall_7: 0.8000 - accuracy: 0.8780 - val_loss: 0.3446 - val_precision_7: 0.9306 - val_recall_7: 0.7976 - val_accuracy: 0.8659\n",
      "Epoch 21/50\n",
      "6/6 [==============================] - 0s 19ms/step - loss: 0.2873 - precision_7: 0.9571 - recall_7: 0.8375 - accuracy: 0.9024 - val_loss: 0.3433 - val_precision_7: 0.9306 - val_recall_7: 0.7976 - val_accuracy: 0.8659\n",
      "Epoch 22/50\n",
      "6/6 [==============================] - 0s 19ms/step - loss: 0.2879 - precision_7: 0.9701 - recall_7: 0.8125 - accuracy: 0.8963 - val_loss: 0.3416 - val_precision_7: 0.9306 - val_recall_7: 0.7976 - val_accuracy: 0.8659\n",
      "Epoch 23/50\n",
      "6/6 [==============================] - 0s 19ms/step - loss: 0.2922 - precision_7: 0.9710 - recall_7: 0.8375 - accuracy: 0.9085 - val_loss: 0.3405 - val_precision_7: 0.9306 - val_recall_7: 0.7976 - val_accuracy: 0.8659\n",
      "Epoch 24/50\n",
      "6/6 [==============================] - 0s 20ms/step - loss: 0.3044 - precision_7: 0.9275 - recall_7: 0.8000 - accuracy: 0.8720 - val_loss: 0.3395 - val_precision_7: 0.9306 - val_recall_7: 0.7976 - val_accuracy: 0.8659\n",
      "Epoch 25/50\n",
      "6/6 [==============================] - 0s 19ms/step - loss: 0.2826 - precision_7: 0.9571 - recall_7: 0.8375 - accuracy: 0.9024 - val_loss: 0.3385 - val_precision_7: 0.9306 - val_recall_7: 0.7976 - val_accuracy: 0.8659\n",
      "Epoch 26/50\n",
      "6/6 [==============================] - 0s 19ms/step - loss: 0.2964 - precision_7: 0.9143 - recall_7: 0.8000 - accuracy: 0.8659 - val_loss: 0.3382 - val_precision_7: 0.9306 - val_recall_7: 0.7976 - val_accuracy: 0.8659\n",
      "Epoch 27/50\n",
      "6/6 [==============================] - 0s 20ms/step - loss: 0.2634 - precision_7: 0.9855 - recall_7: 0.8500 - accuracy: 0.9207 - val_loss: 0.3386 - val_precision_7: 0.9306 - val_recall_7: 0.7976 - val_accuracy: 0.8659\n",
      "Epoch 28/50\n",
      "6/6 [==============================] - 0s 19ms/step - loss: 0.2818 - precision_7: 0.9701 - recall_7: 0.8125 - accuracy: 0.8963 - val_loss: 0.3382 - val_precision_7: 0.9306 - val_recall_7: 0.7976 - val_accuracy: 0.8659\n",
      "Epoch 29/50\n",
      "6/6 [==============================] - 0s 19ms/step - loss: 0.2688 - precision_7: 0.9851 - recall_7: 0.8250 - accuracy: 0.9085 - val_loss: 0.3375 - val_precision_7: 0.9306 - val_recall_7: 0.7976 - val_accuracy: 0.8659\n",
      "Epoch 30/50\n",
      "6/6 [==============================] - 0s 19ms/step - loss: 0.2727 - precision_7: 0.9851 - recall_7: 0.8250 - accuracy: 0.9085 - val_loss: 0.3363 - val_precision_7: 0.9315 - val_recall_7: 0.8095 - val_accuracy: 0.8720\n",
      "Epoch 31/50\n",
      "6/6 [==============================] - 0s 20ms/step - loss: 0.2997 - precision_7: 0.9848 - recall_7: 0.8125 - accuracy: 0.9024 - val_loss: 0.3343 - val_precision_7: 0.9324 - val_recall_7: 0.8214 - val_accuracy: 0.8780\n",
      "Epoch 32/50\n",
      "6/6 [==============================] - 0s 20ms/step - loss: 0.2523 - precision_7: 0.9855 - recall_7: 0.8500 - accuracy: 0.9207 - val_loss: 0.3324 - val_precision_7: 0.9324 - val_recall_7: 0.8214 - val_accuracy: 0.8780\n",
      "Epoch 33/50\n",
      "6/6 [==============================] - 0s 20ms/step - loss: 0.2754 - precision_7: 0.9706 - recall_7: 0.8250 - accuracy: 0.9024 - val_loss: 0.3312 - val_precision_7: 0.9324 - val_recall_7: 0.8214 - val_accuracy: 0.8780\n",
      "Epoch 34/50\n",
      "6/6 [==============================] - 0s 19ms/step - loss: 0.2972 - precision_7: 0.9420 - recall_7: 0.8125 - accuracy: 0.8841 - val_loss: 0.3300 - val_precision_7: 0.9324 - val_recall_7: 0.8214 - val_accuracy: 0.8780\n",
      "Epoch 35/50\n",
      "6/6 [==============================] - 0s 20ms/step - loss: 0.2813 - precision_7: 0.9178 - recall_7: 0.8375 - accuracy: 0.8841 - val_loss: 0.3294 - val_precision_7: 0.9324 - val_recall_7: 0.8214 - val_accuracy: 0.8780\n",
      "Epoch 36/50\n",
      "6/6 [==============================] - 0s 20ms/step - loss: 0.2587 - precision_7: 0.9706 - recall_7: 0.8250 - accuracy: 0.9024 - val_loss: 0.3287 - val_precision_7: 0.9324 - val_recall_7: 0.8214 - val_accuracy: 0.8780\n"
     ]
    },
    {
     "name": "stdout",
     "output_type": "stream",
     "text": [
      "Epoch 37/50\n",
      "6/6 [==============================] - 0s 19ms/step - loss: 0.2393 - precision_7: 1.0000 - recall_7: 0.8375 - accuracy: 0.9207 - val_loss: 0.3276 - val_precision_7: 0.9324 - val_recall_7: 0.8214 - val_accuracy: 0.8780\n",
      "Epoch 38/50\n",
      "6/6 [==============================] - 0s 20ms/step - loss: 0.2623 - precision_7: 0.9054 - recall_7: 0.8375 - accuracy: 0.8780 - val_loss: 0.3274 - val_precision_7: 0.9324 - val_recall_7: 0.8214 - val_accuracy: 0.8780\n",
      "Epoch 39/50\n",
      "6/6 [==============================] - 0s 20ms/step - loss: 0.2584 - precision_7: 0.9855 - recall_7: 0.8500 - accuracy: 0.9207 - val_loss: 0.3271 - val_precision_7: 0.9324 - val_recall_7: 0.8214 - val_accuracy: 0.8780\n",
      "Epoch 40/50\n",
      "6/6 [==============================] - 0s 20ms/step - loss: 0.2641 - precision_7: 0.9714 - recall_7: 0.8500 - accuracy: 0.9146 - val_loss: 0.3264 - val_precision_7: 0.9324 - val_recall_7: 0.8214 - val_accuracy: 0.8780\n",
      "Epoch 41/50\n",
      "6/6 [==============================] - 0s 19ms/step - loss: 0.2670 - precision_7: 0.9429 - recall_7: 0.8250 - accuracy: 0.8902 - val_loss: 0.3260 - val_precision_7: 0.9324 - val_recall_7: 0.8214 - val_accuracy: 0.8780\n",
      "Epoch 42/50\n",
      "6/6 [==============================] - 0s 20ms/step - loss: 0.2516 - precision_7: 0.9853 - recall_7: 0.8375 - accuracy: 0.9146 - val_loss: 0.3255 - val_precision_7: 0.9324 - val_recall_7: 0.8214 - val_accuracy: 0.8780\n",
      "Epoch 43/50\n",
      "6/6 [==============================] - 0s 20ms/step - loss: 0.2578 - precision_7: 0.9714 - recall_7: 0.8500 - accuracy: 0.9146 - val_loss: 0.3251 - val_precision_7: 0.9324 - val_recall_7: 0.8214 - val_accuracy: 0.8780\n",
      "Epoch 44/50\n",
      "6/6 [==============================] - 0s 19ms/step - loss: 0.2533 - precision_7: 0.9851 - recall_7: 0.8250 - accuracy: 0.9085 - val_loss: 0.3250 - val_precision_7: 0.9324 - val_recall_7: 0.8214 - val_accuracy: 0.8780\n",
      "Epoch 45/50\n",
      "6/6 [==============================] - 0s 20ms/step - loss: 0.2419 - precision_7: 0.9718 - recall_7: 0.8625 - accuracy: 0.9207 - val_loss: 0.3251 - val_precision_7: 0.9324 - val_recall_7: 0.8214 - val_accuracy: 0.8780\n",
      "Epoch 46/50\n",
      "6/6 [==============================] - 0s 19ms/step - loss: 0.2727 - precision_7: 0.9296 - recall_7: 0.8250 - accuracy: 0.8841 - val_loss: 0.3253 - val_precision_7: 0.9324 - val_recall_7: 0.8214 - val_accuracy: 0.8780\n",
      "Epoch 47/50\n",
      "6/6 [==============================] - 0s 20ms/step - loss: 0.2495 - precision_7: 0.9710 - recall_7: 0.8375 - accuracy: 0.9085 - val_loss: 0.3254 - val_precision_7: 0.9324 - val_recall_7: 0.8214 - val_accuracy: 0.8780\n",
      "Epoch 48/50\n",
      "6/6 [==============================] - 0s 19ms/step - loss: 0.2622 - precision_7: 0.9571 - recall_7: 0.8375 - accuracy: 0.9024 - val_loss: 0.3251 - val_precision_7: 0.9324 - val_recall_7: 0.8214 - val_accuracy: 0.8780\n",
      "Epoch 49/50\n",
      "6/6 [==============================] - 0s 19ms/step - loss: 0.2488 - precision_7: 0.9710 - recall_7: 0.8375 - accuracy: 0.9085 - val_loss: 0.3247 - val_precision_7: 0.9324 - val_recall_7: 0.8214 - val_accuracy: 0.8780\n",
      "Epoch 50/50\n",
      "6/6 [==============================] - 0s 20ms/step - loss: 0.2610 - precision_7: 0.9706 - recall_7: 0.8250 - accuracy: 0.9024 - val_loss: 0.3242 - val_precision_7: 0.9324 - val_recall_7: 0.8214 - val_accuracy: 0.8780\n"
     ]
    }
   ],
   "source": [
    "history1 = new_model.fit(\n",
    "            train_ds,\n",
    "            epochs=50,\n",
    "            validation_data=val_ds,\n",
    "#             class_weight={0:1,1:3}\n",
    "            )"
   ]
  },
  {
   "cell_type": "code",
   "execution_count": 41,
   "metadata": {},
   "outputs": [
    {
     "name": "stdout",
     "output_type": "stream",
     "text": [
      "74/74 [==============================] - 0s 6ms/step - loss: 0.2315 - precision_7: 0.5641 - recall_7: 0.8049 - accuracy: 0.9431\n"
     ]
    }
   ],
   "source": [
    "history = new_model.evaluate(test_ds)"
   ]
  },
  {
   "cell_type": "code",
   "execution_count": 11,
   "metadata": {},
   "outputs": [
    {
     "name": "stdout",
     "output_type": "stream",
     "text": [
      "1/1 [==============================] - 0s 75ms/step\n",
      "1/1 [==============================] - 0s 15ms/step\n",
      "1/1 [==============================] - 0s 16ms/step\n",
      "1/1 [==============================] - 0s 16ms/step\n",
      "1/1 [==============================] - 0s 16ms/step\n",
      "1/1 [==============================] - 0s 15ms/step\n",
      "1/1 [==============================] - 0s 15ms/step\n",
      "1/1 [==============================] - 0s 23ms/step\n",
      "1/1 [==============================] - 0s 17ms/step\n",
      "1/1 [==============================] - 0s 17ms/step\n",
      "1/1 [==============================] - 0s 16ms/step\n",
      "1/1 [==============================] - 0s 18ms/step\n",
      "1/1 [==============================] - 0s 16ms/step\n",
      "1/1 [==============================] - 0s 16ms/step\n",
      "1/1 [==============================] - 0s 16ms/step\n",
      "1/1 [==============================] - 0s 18ms/step\n",
      "1/1 [==============================] - 0s 16ms/step\n",
      "1/1 [==============================] - 0s 17ms/step\n",
      "1/1 [==============================] - 0s 16ms/step\n",
      "1/1 [==============================] - 0s 16ms/step\n",
      "1/1 [==============================] - 0s 17ms/step\n",
      "1/1 [==============================] - 0s 18ms/step\n",
      "1/1 [==============================] - 0s 15ms/step\n",
      "1/1 [==============================] - 0s 15ms/step\n",
      "1/1 [==============================] - 0s 16ms/step\n",
      "1/1 [==============================] - 0s 17ms/step\n",
      "1/1 [==============================] - 0s 17ms/step\n",
      "1/1 [==============================] - 0s 17ms/step\n",
      "1/1 [==============================] - 0s 15ms/step\n",
      "1/1 [==============================] - 0s 15ms/step\n",
      "1/1 [==============================] - 0s 15ms/step\n",
      "1/1 [==============================] - 0s 16ms/step\n",
      "1/1 [==============================] - 0s 16ms/step\n",
      "1/1 [==============================] - 0s 17ms/step\n",
      "1/1 [==============================] - 0s 16ms/step\n",
      "1/1 [==============================] - 0s 15ms/step\n",
      "1/1 [==============================] - 0s 15ms/step\n",
      "1/1 [==============================] - 0s 15ms/step\n",
      "1/1 [==============================] - 0s 16ms/step\n",
      "1/1 [==============================] - 0s 16ms/step\n",
      "1/1 [==============================] - 0s 17ms/step\n",
      "1/1 [==============================] - 0s 18ms/step\n",
      "1/1 [==============================] - 0s 16ms/step\n",
      "1/1 [==============================] - 0s 16ms/step\n",
      "1/1 [==============================] - 0s 15ms/step\n",
      "1/1 [==============================] - 0s 16ms/step\n",
      "1/1 [==============================] - 0s 16ms/step\n",
      "1/1 [==============================] - 0s 17ms/step\n",
      "1/1 [==============================] - 0s 16ms/step\n",
      "1/1 [==============================] - 0s 16ms/step\n",
      "1/1 [==============================] - 0s 14ms/step\n",
      "1/1 [==============================] - 0s 16ms/step\n",
      "1/1 [==============================] - 0s 16ms/step\n",
      "1/1 [==============================] - 0s 17ms/step\n",
      "1/1 [==============================] - 0s 15ms/step\n",
      "1/1 [==============================] - 0s 18ms/step\n",
      "1/1 [==============================] - 0s 32ms/step\n",
      "1/1 [==============================] - 0s 19ms/step\n",
      "1/1 [==============================] - 0s 15ms/step\n",
      "1/1 [==============================] - 0s 17ms/step\n",
      "1/1 [==============================] - 0s 17ms/step\n",
      "1/1 [==============================] - 0s 17ms/step\n",
      "1/1 [==============================] - 0s 17ms/step\n",
      "1/1 [==============================] - 0s 15ms/step\n",
      "1/1 [==============================] - 0s 15ms/step\n",
      "1/1 [==============================] - 0s 15ms/step\n",
      "1/1 [==============================] - 0s 18ms/step\n",
      "1/1 [==============================] - 0s 17ms/step\n",
      "1/1 [==============================] - 0s 15ms/step\n",
      "1/1 [==============================] - 0s 15ms/step\n",
      "1/1 [==============================] - 0s 15ms/step\n",
      "1/1 [==============================] - 0s 15ms/step\n",
      "1/1 [==============================] - 0s 15ms/step\n",
      "1/1 [==============================] - 0s 65ms/step\n"
     ]
    }
   ],
   "source": [
    "counter = 0\n",
    "for element in test_ds:\n",
    "    preds = model1.predict(element[0])\n",
    "    for i in range(element[0].shape[0]):\n",
    "        img = PIL.Image.fromarray(element[0][i,:,:,:].numpy().astype(np.uint8))\n",
    "        if preds[i] > 0.5:\n",
    "            dstatus = 'turkey/test_predictions/undamaged/'\n",
    "        else:\n",
    "            dstatus = 'turkey/test_predictions/damaged/'\n",
    "        counter += 1\n",
    "        img.save(dstatus + str(counter) + '.png')"
   ]
  },
  {
   "cell_type": "code",
   "execution_count": null,
   "metadata": {},
   "outputs": [],
   "source": [
    "counter"
   ]
  },
  {
   "cell_type": "code",
   "execution_count": 56,
   "metadata": {},
   "outputs": [
    {
     "name": "stdout",
     "output_type": "stream",
     "text": [
      "1/1 [==============================] - 0s 15ms/step\n",
      "1/1 [==============================] - 0s 15ms/step\n",
      "1/1 [==============================] - 0s 27ms/step\n",
      "1/1 [==============================] - 0s 15ms/step\n",
      "1/1 [==============================] - 0s 15ms/step\n",
      "1/1 [==============================] - 0s 15ms/step\n",
      "1/1 [==============================] - 0s 16ms/step\n",
      "1/1 [==============================] - 0s 17ms/step\n",
      "1/1 [==============================] - 0s 15ms/step\n",
      "1/1 [==============================] - 0s 17ms/step\n",
      "1/1 [==============================] - 0s 15ms/step\n",
      "1/1 [==============================] - 0s 15ms/step\n",
      "1/1 [==============================] - 0s 15ms/step\n",
      "1/1 [==============================] - 0s 16ms/step\n",
      "1/1 [==============================] - 0s 16ms/step\n",
      "1/1 [==============================] - 0s 17ms/step\n",
      "1/1 [==============================] - 0s 16ms/step\n",
      "1/1 [==============================] - 0s 15ms/step\n",
      "1/1 [==============================] - 0s 15ms/step\n",
      "1/1 [==============================] - 0s 15ms/step\n",
      "1/1 [==============================] - 0s 29ms/step\n",
      "1/1 [==============================] - 0s 15ms/step\n",
      "1/1 [==============================] - 0s 16ms/step\n",
      "1/1 [==============================] - 0s 16ms/step\n",
      "1/1 [==============================] - 0s 14ms/step\n",
      "1/1 [==============================] - 0s 15ms/step\n",
      "1/1 [==============================] - 0s 14ms/step\n",
      "1/1 [==============================] - 0s 16ms/step\n",
      "1/1 [==============================] - 0s 16ms/step\n",
      "1/1 [==============================] - 0s 16ms/step\n",
      "1/1 [==============================] - 0s 17ms/step\n",
      "1/1 [==============================] - 0s 15ms/step\n",
      "1/1 [==============================] - 0s 14ms/step\n",
      "1/1 [==============================] - 0s 15ms/step\n",
      "1/1 [==============================] - 0s 16ms/step\n",
      "1/1 [==============================] - 0s 16ms/step\n",
      "1/1 [==============================] - 0s 16ms/step\n",
      "1/1 [==============================] - 0s 16ms/step\n",
      "1/1 [==============================] - 0s 2ms/step\n",
      "1/1 [==============================] - 0s 15ms/step\n",
      "1/1 [==============================] - 0s 15ms/step\n",
      "1/1 [==============================] - 0s 16ms/step\n",
      "1/1 [==============================] - 0s 16ms/step\n",
      "1/1 [==============================] - 0s 17ms/step\n",
      "1/1 [==============================] - 0s 16ms/step\n",
      "1/1 [==============================] - 0s 16ms/step\n",
      "1/1 [==============================] - 0s 16ms/step\n",
      "1/1 [==============================] - 0s 15ms/step\n",
      "1/1 [==============================] - 0s 16ms/step\n",
      "1/1 [==============================] - 0s 24ms/step\n",
      "1/1 [==============================] - 0s 17ms/step\n",
      "1/1 [==============================] - 0s 15ms/step\n",
      "1/1 [==============================] - 0s 15ms/step\n",
      "1/1 [==============================] - 0s 15ms/step\n",
      "1/1 [==============================] - 0s 15ms/step\n",
      "1/1 [==============================] - 0s 16ms/step\n",
      "1/1 [==============================] - 0s 17ms/step\n",
      "1/1 [==============================] - 0s 15ms/step\n",
      "1/1 [==============================] - 0s 18ms/step\n",
      "1/1 [==============================] - 0s 15ms/step\n",
      "1/1 [==============================] - 0s 15ms/step\n",
      "1/1 [==============================] - 0s 14ms/step\n",
      "1/1 [==============================] - 0s 15ms/step\n",
      "1/1 [==============================] - 0s 15ms/step\n",
      "1/1 [==============================] - 0s 16ms/step\n",
      "1/1 [==============================] - 0s 16ms/step\n",
      "1/1 [==============================] - 0s 16ms/step\n",
      "1/1 [==============================] - 0s 15ms/step\n",
      "1/1 [==============================] - 0s 16ms/step\n",
      "1/1 [==============================] - 0s 16ms/step\n",
      "1/1 [==============================] - 0s 16ms/step\n",
      "1/1 [==============================] - 0s 16ms/step\n",
      "1/1 [==============================] - 0s 16ms/step\n",
      "1/1 [==============================] - 0s 19ms/step\n"
     ]
    }
   ],
   "source": [
    "counter = 0\n",
    "for element in test_ds:\n",
    "    preds = new_model.predict(element[0])\n",
    "    for i in range(element[0].shape[0]):\n",
    "        img = PIL.Image.fromarray(element[0][i,:,:,:].numpy().astype(np.uint8))\n",
    "        if preds[i] > 0.5:\n",
    "            dstatus = 'xBD_Dataset/test_predictions/damaged/'\n",
    "        else:\n",
    "            dstatus = 'xBD_Dataset/test_predictions/undamaged/'\n",
    "        counter += 1\n",
    "        img.save(dstatus + str(counter) + '.png')"
   ]
  },
  {
   "cell_type": "code",
   "execution_count": 13,
   "metadata": {},
   "outputs": [
    {
     "data": {
      "text/plain": [
       "2353"
      ]
     },
     "execution_count": 13,
     "metadata": {},
     "output_type": "execute_result"
    }
   ],
   "source": [
    "counter"
   ]
  },
  {
   "cell_type": "code",
   "execution_count": 69,
   "metadata": {},
   "outputs": [],
   "source": [
    "counter = 0\n",
    "dataset = test_ds.enumerate()\n",
    "arr = []\n",
    "for element in dataset.as_numpy_iterator():\n",
    "    for i in range(len(element[1][1])):\n",
    "        dmg = element[1][1][i]   \n",
    "        img = PIL.Image.fromarray(element[1][0][i].astype(np.uint8))\n",
    "        if dmg == 1:\n",
    "            dstatus = 'xBD_Dataset/test_truth/damaged/'\n",
    "        else:\n",
    "            dstatus = 'xBD_Dataset/test_truth/undamaged/'\n",
    "        counter += 1\n",
    "        img.save(dstatus + str(counter) + '.png')"
   ]
  },
  {
   "cell_type": "code",
   "execution_count": null,
   "metadata": {},
   "outputs": [],
   "source": []
  }
 ],
 "metadata": {
  "kernelspec": {
   "display_name": "Python [conda env:tf]",
   "language": "python",
   "name": "conda-env-tf-py"
  },
  "language_info": {
   "codemirror_mode": {
    "name": "ipython",
    "version": 3
   },
   "file_extension": ".py",
   "mimetype": "text/x-python",
   "name": "python",
   "nbconvert_exporter": "python",
   "pygments_lexer": "ipython3",
   "version": "3.9.16"
  }
 },
 "nbformat": 4,
 "nbformat_minor": 4
}
